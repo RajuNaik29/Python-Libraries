{
  "nbformat": 4,
  "nbformat_minor": 0,
  "metadata": {
    "colab": {
      "provenance": [],
      "authorship_tag": "ABX9TyMYWv7tlZtAHnFbOOJZCFAD",
      "include_colab_link": true
    },
    "kernelspec": {
      "name": "python3",
      "display_name": "Python 3"
    },
    "language_info": {
      "name": "python"
    }
  },
  "cells": [
    {
      "cell_type": "markdown",
      "metadata": {
        "id": "view-in-github",
        "colab_type": "text"
      },
      "source": [
        "<a href=\"https://colab.research.google.com/github/RajuNaik29/Python-Libraries/blob/main/Numpy_Revision_Notes.ipynb\" target=\"_parent\"><img src=\"https://colab.research.google.com/assets/colab-badge.svg\" alt=\"Open In Colab\"/></a>"
      ]
    },
    {
      "cell_type": "markdown",
      "source": [
        "**Why Numpy ?**\n",
        "\n",
        "1. Supports element wise operation + Vectorization(\n",
        "Vectorization in NumPy refers to the process of applying operations element-wise on arrays, which can lead to significantly faster and more concise code compared to using loops. This is achieved by leveraging NumPy's ability to perform operations on entire arrays at once without the need for explicit looping over individual elements.)\n",
        "\n",
        "      Input : arr = np.array([1, 2, 3, 4])\n",
        "  \n",
        "      Output: array([1, 2, 3, 4])\n",
        "  \n",
        "      Input : arr*2\n",
        "  \n",
        "      output: array([2, 4, 6, 8])\n",
        "\n",
        "2. Faster Execution speed\n",
        "\n",
        "    A. Python list (took 300 milli sec for squaring elements)\n",
        "\n",
        "    B. Numpy array (took 20 ms)\n",
        "\n",
        "**Numpy internally uses C arrays.**"
      ],
      "metadata": {
        "id": "dNu1MVepnaRT"
      }
    },
    {
      "cell_type": "code",
      "source": [
        "l = range(1000000)\n",
        "\n",
        "%timeit [i**2 for i in l]"
      ],
      "metadata": {
        "colab": {
          "base_uri": "https://localhost:8080/"
        },
        "id": "hw21rL08o6p-",
        "outputId": "1aafff37-2273-46bb-cecf-ee24b0d0c2cc"
      },
      "execution_count": 199,
      "outputs": [
        {
          "output_type": "stream",
          "name": "stdout",
          "text": [
            "362 ms ± 68.4 ms per loop (mean ± std. dev. of 7 runs, 1 loop each)\n"
          ]
        }
      ]
    },
    {
      "cell_type": "code",
      "source": [
        "n = np.array(range(100000))\n",
        "\n",
        "%timeit [i**2 for i in n]"
      ],
      "metadata": {
        "colab": {
          "base_uri": "https://localhost:8080/"
        },
        "id": "XCd1ZDkaocUu",
        "outputId": "ff2c4c0d-223d-4328-df78-d29f3c19d7ef"
      },
      "execution_count": 200,
      "outputs": [
        {
          "output_type": "stream",
          "name": "stdout",
          "text": [
            "20.6 ms ± 9.63 ms per loop (mean ± std. dev. of 7 runs, 100 loops each)\n"
          ]
        }
      ]
    },
    {
      "cell_type": "markdown",
      "source": [
        "**1. np.int64 :** Signed 64-bit integer types\n",
        "\n",
        "**2. np.float32 :** Standard double-precision floating point\n",
        "\n",
        "**3. np.complex :** Complex numbers represented by 128 floats\n",
        "\n",
        "**4. np.bool :** Boolean type storing TRUE and FALSE values\n",
        "\n",
        "**5. np.object :** Python object type\n",
        "\n",
        "**6. np.string :** Fixed-length string type\n",
        "\n",
        "**7. np.unicode :** Fixed-length unicode type"
      ],
      "metadata": {
        "id": "_Mouwrh39NUK"
      }
    },
    {
      "cell_type": "markdown",
      "source": [
        "# **1. creating NumPy arrays**:\n",
        "\n",
        "1. np.array\n",
        "2. np.arange\n",
        "3. np.ones\n",
        "4. np.zeros\n",
        "5. np.linspace\n",
        "6. np.identity\n",
        "7. np.random\n"
      ],
      "metadata": {
        "id": "6xJwVoVYcCza"
      }
    },
    {
      "cell_type": "markdown",
      "source": [
        "### **1. np.array**"
      ],
      "metadata": {
        "id": "gijxjB4te4U8"
      }
    },
    {
      "cell_type": "code",
      "source": [
        "arr = np.array(1)\n",
        "print(arr)\n",
        "print(type(arr))\n",
        "print(arr.shape)"
      ],
      "metadata": {
        "colab": {
          "base_uri": "https://localhost:8080/"
        },
        "id": "XFCTruUaegrI",
        "outputId": "91475898-7f0c-43c9-d1ea-d9a38b4d4dd7"
      },
      "execution_count": 29,
      "outputs": [
        {
          "output_type": "stream",
          "name": "stdout",
          "text": [
            "1\n",
            "<class 'numpy.ndarray'>\n",
            "()\n"
          ]
        }
      ]
    },
    {
      "cell_type": "code",
      "execution_count": 2,
      "metadata": {
        "colab": {
          "base_uri": "https://localhost:8080/"
        },
        "id": "kUJEJiboZxX4",
        "outputId": "1d11cce1-65b6-4827-fccb-875305445ff1"
      },
      "outputs": [
        {
          "output_type": "stream",
          "name": "stdout",
          "text": [
            "[ 1  4 21 52 33 23 33]\n",
            "<class 'numpy.ndarray'>\n"
          ]
        }
      ],
      "source": [
        "# np.array\n",
        "\n",
        "import numpy as np\n",
        "\n",
        "a = np.array([1,4,21,52,33,23,33])\n",
        "print(a)\n",
        "print(type(a))"
      ]
    },
    {
      "cell_type": "code",
      "source": [
        "a.shape"
      ],
      "metadata": {
        "colab": {
          "base_uri": "https://localhost:8080/"
        },
        "id": "gmZgmMDTd5Ze",
        "outputId": "a27ce429-a267-43a8-f101-f52b17aef8a4"
      },
      "execution_count": 31,
      "outputs": [
        {
          "output_type": "execute_result",
          "data": {
            "text/plain": [
              "(7,)"
            ]
          },
          "metadata": {},
          "execution_count": 31
        }
      ]
    },
    {
      "cell_type": "code",
      "source": [
        "# 2D array\n",
        "\n",
        "b = np.array([[12,31,32,1],[32,4,31,44]])\n",
        "print(b)\n",
        "print(type(b))"
      ],
      "metadata": {
        "colab": {
          "base_uri": "https://localhost:8080/"
        },
        "id": "o7pTibmZc6fV",
        "outputId": "7a308237-c58a-4230-a62e-82d7b0957c87"
      },
      "execution_count": 32,
      "outputs": [
        {
          "output_type": "stream",
          "name": "stdout",
          "text": [
            "[[12 31 32  1]\n",
            " [32  4 31 44]]\n",
            "<class 'numpy.ndarray'>\n"
          ]
        }
      ]
    },
    {
      "cell_type": "code",
      "source": [
        "b.shape"
      ],
      "metadata": {
        "colab": {
          "base_uri": "https://localhost:8080/"
        },
        "id": "rIXqaFXgd9YW",
        "outputId": "77303aac-f709-469b-ac45-6a8139a0d228"
      },
      "execution_count": 33,
      "outputs": [
        {
          "output_type": "execute_result",
          "data": {
            "text/plain": [
              "(2, 4)"
            ]
          },
          "metadata": {},
          "execution_count": 33
        }
      ]
    },
    {
      "cell_type": "code",
      "source": [
        "# 3D array\n",
        "\n",
        "c = np.array([[[13,21,1,2,121],[12,31,2,1,22],[12,44,23,5,78]]])\n",
        "print(c)\n",
        "print(type(c))"
      ],
      "metadata": {
        "colab": {
          "base_uri": "https://localhost:8080/"
        },
        "id": "NHmlDW7NdLNO",
        "outputId": "ddf83c42-eddf-4164-89b8-a5a4bd2ff447"
      },
      "execution_count": 34,
      "outputs": [
        {
          "output_type": "stream",
          "name": "stdout",
          "text": [
            "[[[ 13  21   1   2 121]\n",
            "  [ 12  31   2   1  22]\n",
            "  [ 12  44  23   5  78]]]\n",
            "<class 'numpy.ndarray'>\n"
          ]
        }
      ]
    },
    {
      "cell_type": "code",
      "source": [
        "c.shape"
      ],
      "metadata": {
        "colab": {
          "base_uri": "https://localhost:8080/"
        },
        "id": "fE7LvJNGd_-a",
        "outputId": "09a6ee82-6a68-4546-e9dc-36e6b90a9126"
      },
      "execution_count": 35,
      "outputs": [
        {
          "output_type": "execute_result",
          "data": {
            "text/plain": [
              "(1, 3, 5)"
            ]
          },
          "metadata": {},
          "execution_count": 35
        }
      ]
    },
    {
      "cell_type": "code",
      "source": [
        "# dtype\n",
        "\n",
        "d = np.array([1,2,3], dtype = 'float')\n",
        "print(d)"
      ],
      "metadata": {
        "colab": {
          "base_uri": "https://localhost:8080/"
        },
        "id": "_l9cgAmNeRDg",
        "outputId": "a4a3727a-dfa5-4a31-8222-0579d22b0fec"
      },
      "execution_count": 36,
      "outputs": [
        {
          "output_type": "stream",
          "name": "stdout",
          "text": [
            "[1. 2. 3.]\n"
          ]
        }
      ]
    },
    {
      "cell_type": "markdown",
      "source": [
        "### **2. np.arange**"
      ],
      "metadata": {
        "id": "ncv2MC6Ae9xw"
      }
    },
    {
      "cell_type": "code",
      "source": [
        "print(np.arange(1,5))\n",
        "print(np.arange(1,10))\n",
        "print(np.arange(10,20))"
      ],
      "metadata": {
        "colab": {
          "base_uri": "https://localhost:8080/"
        },
        "id": "nODfayJFe02X",
        "outputId": "90537729-2f78-4391-a966-d18a271c8d01"
      },
      "execution_count": 37,
      "outputs": [
        {
          "output_type": "stream",
          "name": "stdout",
          "text": [
            "[1 2 3 4]\n",
            "[1 2 3 4 5 6 7 8 9]\n",
            "[10 11 12 13 14 15 16 17 18 19]\n"
          ]
        }
      ]
    },
    {
      "cell_type": "code",
      "source": [
        "# with reshape(rows, columns)\n",
        "\n",
        "print(np.arange(1,11).reshape(2,5))\n",
        "print()\n",
        "print(np.arange(1,21).reshape(4,5))"
      ],
      "metadata": {
        "colab": {
          "base_uri": "https://localhost:8080/"
        },
        "id": "pKnY95OffRes",
        "outputId": "cc57eb89-49e2-4bff-ef6b-5731d7f9d961"
      },
      "execution_count": 38,
      "outputs": [
        {
          "output_type": "stream",
          "name": "stdout",
          "text": [
            "[[ 1  2  3  4  5]\n",
            " [ 6  7  8  9 10]]\n",
            "\n",
            "[[ 1  2  3  4  5]\n",
            " [ 6  7  8  9 10]\n",
            " [11 12 13 14 15]\n",
            " [16 17 18 19 20]]\n"
          ]
        }
      ]
    },
    {
      "cell_type": "markdown",
      "source": [
        "### **3. np.ones and np.zeros**"
      ],
      "metadata": {
        "id": "v8vnBxXPfwv_"
      }
    },
    {
      "cell_type": "code",
      "source": [
        "# np.ones\n",
        "\n",
        "print(np.ones(3))\n",
        "print()\n",
        "print(np.ones((3,1)))\n",
        "print()\n",
        "print(np.ones((1,3)))\n",
        "print()\n",
        "print(np.ones((3,3)))\n",
        "print()\n",
        "print(np.ones((2,3,3)))\n",
        "print()\n",
        "print(np.ones((4,3,2)))"
      ],
      "metadata": {
        "colab": {
          "base_uri": "https://localhost:8080/"
        },
        "id": "f89qHZ5aftpB",
        "outputId": "7d03c30b-861c-4acf-e942-0237e109f666"
      },
      "execution_count": 39,
      "outputs": [
        {
          "output_type": "stream",
          "name": "stdout",
          "text": [
            "[1. 1. 1.]\n",
            "\n",
            "[[1.]\n",
            " [1.]\n",
            " [1.]]\n",
            "\n",
            "[[1. 1. 1.]]\n",
            "\n",
            "[[1. 1. 1.]\n",
            " [1. 1. 1.]\n",
            " [1. 1. 1.]]\n",
            "\n",
            "[[[1. 1. 1.]\n",
            "  [1. 1. 1.]\n",
            "  [1. 1. 1.]]\n",
            "\n",
            " [[1. 1. 1.]\n",
            "  [1. 1. 1.]\n",
            "  [1. 1. 1.]]]\n",
            "\n",
            "[[[1. 1.]\n",
            "  [1. 1.]\n",
            "  [1. 1.]]\n",
            "\n",
            " [[1. 1.]\n",
            "  [1. 1.]\n",
            "  [1. 1.]]\n",
            "\n",
            " [[1. 1.]\n",
            "  [1. 1.]\n",
            "  [1. 1.]]\n",
            "\n",
            " [[1. 1.]\n",
            "  [1. 1.]\n",
            "  [1. 1.]]]\n"
          ]
        }
      ]
    },
    {
      "cell_type": "code",
      "source": [
        "# np.ones\n",
        "\n",
        "print(np.ones(3, dtype = 'int'))\n",
        "print()\n",
        "print(np.ones((3,1), dtype = 'int'))\n",
        "print()\n",
        "print(np.ones((1,3), dtype = 'int'))\n",
        "print()\n",
        "print(np.ones((3,3), dtype = 'int'))\n",
        "print()\n",
        "print(np.ones((2,3,3), dtype = 'int'))\n",
        "print()\n",
        "print(np.ones((4,3,2), dtype = 'int'))"
      ],
      "metadata": {
        "colab": {
          "base_uri": "https://localhost:8080/"
        },
        "id": "sToFFsAHg-_a",
        "outputId": "44efa713-5fc0-41e9-b571-c1bb9b665596"
      },
      "execution_count": 40,
      "outputs": [
        {
          "output_type": "stream",
          "name": "stdout",
          "text": [
            "[1 1 1]\n",
            "\n",
            "[[1]\n",
            " [1]\n",
            " [1]]\n",
            "\n",
            "[[1 1 1]]\n",
            "\n",
            "[[1 1 1]\n",
            " [1 1 1]\n",
            " [1 1 1]]\n",
            "\n",
            "[[[1 1 1]\n",
            "  [1 1 1]\n",
            "  [1 1 1]]\n",
            "\n",
            " [[1 1 1]\n",
            "  [1 1 1]\n",
            "  [1 1 1]]]\n",
            "\n",
            "[[[1 1]\n",
            "  [1 1]\n",
            "  [1 1]]\n",
            "\n",
            " [[1 1]\n",
            "  [1 1]\n",
            "  [1 1]]\n",
            "\n",
            " [[1 1]\n",
            "  [1 1]\n",
            "  [1 1]]\n",
            "\n",
            " [[1 1]\n",
            "  [1 1]\n",
            "  [1 1]]]\n"
          ]
        }
      ]
    },
    {
      "cell_type": "code",
      "source": [
        "# np.zeros\n",
        "\n",
        "print(np.zeros(3))\n",
        "print()\n",
        "print(np.zeros((3,1)))\n",
        "print()\n",
        "print(np.zeros((1,3)))\n",
        "print()\n",
        "print(np.zeros((3,3)))\n",
        "print()\n",
        "print(np.zeros((2,3,3)))\n",
        "print()\n",
        "print(np.zeros((4,3,2)))"
      ],
      "metadata": {
        "colab": {
          "base_uri": "https://localhost:8080/"
        },
        "id": "oHqv6BpJguAZ",
        "outputId": "e85ac6e1-8ba1-4d96-b81a-de1c54694e6a"
      },
      "execution_count": 41,
      "outputs": [
        {
          "output_type": "stream",
          "name": "stdout",
          "text": [
            "[0. 0. 0.]\n",
            "\n",
            "[[0.]\n",
            " [0.]\n",
            " [0.]]\n",
            "\n",
            "[[0. 0. 0.]]\n",
            "\n",
            "[[0. 0. 0.]\n",
            " [0. 0. 0.]\n",
            " [0. 0. 0.]]\n",
            "\n",
            "[[[0. 0. 0.]\n",
            "  [0. 0. 0.]\n",
            "  [0. 0. 0.]]\n",
            "\n",
            " [[0. 0. 0.]\n",
            "  [0. 0. 0.]\n",
            "  [0. 0. 0.]]]\n",
            "\n",
            "[[[0. 0.]\n",
            "  [0. 0.]\n",
            "  [0. 0.]]\n",
            "\n",
            " [[0. 0.]\n",
            "  [0. 0.]\n",
            "  [0. 0.]]\n",
            "\n",
            " [[0. 0.]\n",
            "  [0. 0.]\n",
            "  [0. 0.]]\n",
            "\n",
            " [[0. 0.]\n",
            "  [0. 0.]\n",
            "  [0. 0.]]]\n"
          ]
        }
      ]
    },
    {
      "cell_type": "code",
      "source": [
        "# np.zeros\n",
        "\n",
        "print(np.zeros(3, dtype = 'int'))\n",
        "print()\n",
        "print(np.zeros((3,1), dtype = 'int'))\n",
        "print()\n",
        "print(np.zeros((1,3), dtype = 'int'))\n",
        "print()\n",
        "print(np.zeros((3,3), dtype = 'int'))\n",
        "print()\n",
        "print(np.zeros((2,3,3), dtype = 'int'))\n",
        "print()\n",
        "print(np.zeros((4,3,2), dtype = 'int'))"
      ],
      "metadata": {
        "colab": {
          "base_uri": "https://localhost:8080/"
        },
        "id": "1JH2ioPWhYnV",
        "outputId": "0c143db2-569c-49f9-ce13-a6767f444764"
      },
      "execution_count": 42,
      "outputs": [
        {
          "output_type": "stream",
          "name": "stdout",
          "text": [
            "[0 0 0]\n",
            "\n",
            "[[0]\n",
            " [0]\n",
            " [0]]\n",
            "\n",
            "[[0 0 0]]\n",
            "\n",
            "[[0 0 0]\n",
            " [0 0 0]\n",
            " [0 0 0]]\n",
            "\n",
            "[[[0 0 0]\n",
            "  [0 0 0]\n",
            "  [0 0 0]]\n",
            "\n",
            " [[0 0 0]\n",
            "  [0 0 0]\n",
            "  [0 0 0]]]\n",
            "\n",
            "[[[0 0]\n",
            "  [0 0]\n",
            "  [0 0]]\n",
            "\n",
            " [[0 0]\n",
            "  [0 0]\n",
            "  [0 0]]\n",
            "\n",
            " [[0 0]\n",
            "  [0 0]\n",
            "  [0 0]]\n",
            "\n",
            " [[0 0]\n",
            "  [0 0]\n",
            "  [0 0]]]\n"
          ]
        }
      ]
    },
    {
      "cell_type": "code",
      "source": [
        "# np.full : Create a constant array\n",
        "\n",
        "print(np.full((2,2),7))\n",
        "print()\n",
        "print(np.full((4,6),9))"
      ],
      "metadata": {
        "colab": {
          "base_uri": "https://localhost:8080/"
        },
        "id": "E2mW9y3w2LhY",
        "outputId": "93e4173c-4a6f-443a-8f6d-358547454a08"
      },
      "execution_count": 333,
      "outputs": [
        {
          "output_type": "stream",
          "name": "stdout",
          "text": [
            "[[7 7]\n",
            " [7 7]]\n",
            "\n",
            "[[9 9 9 9 9 9]\n",
            " [9 9 9 9 9 9]\n",
            " [9 9 9 9 9 9]\n",
            " [9 9 9 9 9 9]]\n"
          ]
        }
      ]
    },
    {
      "cell_type": "code",
      "source": [
        "# np.eye() : Create a 2X2 identity matrix\n",
        "\n",
        "print(np.eye(2))\n",
        "print()\n",
        "print(np.eye(3, dtype = 'int'))"
      ],
      "metadata": {
        "colab": {
          "base_uri": "https://localhost:8080/"
        },
        "id": "ttbALzny28g0",
        "outputId": "2fee4743-5932-4726-f4e1-8fcdba1a6e0d"
      },
      "execution_count": 3,
      "outputs": [
        {
          "output_type": "stream",
          "name": "stdout",
          "text": [
            "[[1. 0.]\n",
            " [0. 1.]]\n",
            "\n",
            "[[1 0 0]\n",
            " [0 1 0]\n",
            " [0 0 1]]\n"
          ]
        }
      ]
    },
    {
      "cell_type": "code",
      "source": [
        "# np.empty : Create an empty array\n",
        "\n",
        "print(np.empty(3))\n",
        "print()\n",
        "print(np.empty((3,2), dtype = 'int'))"
      ],
      "metadata": {
        "colab": {
          "base_uri": "https://localhost:8080/"
        },
        "id": "_qepfXCa3WCk",
        "outputId": "4533aec1-511c-467e-e848-f1e88d3451d5"
      },
      "execution_count": 9,
      "outputs": [
        {
          "output_type": "stream",
          "name": "stdout",
          "text": [
            "[0.  0.5 1. ]\n",
            "\n",
            "[[     97198935145545                   0]\n",
            " [7310313499701308783 2338324147834593380]\n",
            " [2334386829830418017 8392569095419881830]]\n"
          ]
        }
      ]
    },
    {
      "cell_type": "markdown",
      "source": [
        "### **Saving and Loading on disk**\n",
        "\n",
        "1. np.save('my_array', a) :  `np.save('my_array', a)` saves the NumPy array `a` to a binary file named `'my_array.npy'`. This file contains the data of the array `a` in a binary format, preserving the array's shape and data type. It can be later loaded back into a NumPy array using `np.load('my_array.npy')`. This function is useful for saving NumPy arrays to disk for later use, especially when working with large datasets or when you need to share data between different Python sessions.\n",
        "\n",
        "2. np.savez('array.npz', a, b) : `np.savez('array.npz', a, b)` saves multiple NumPy arrays `a` and `b` into a single compressed `.npz` file named `'array.npz'`. This file contains the data of the arrays `a` and `b` in a compressed format, preserving their shapes and data types. The arrays can be later loaded back into NumPy arrays using `np.load('array.npz')`. This function is useful for saving multiple arrays into a single file efficiently, especially when working with large datasets or when you need to share multiple arrays between different Python sessions.\n",
        "\n",
        "3. np.load('my_array.npy') : `np.load('my_array.npy')` loads a NumPy array from a binary file named `'my_array.npy'`. This file should have been previously saved using `np.save()` function. The loaded array can be assigned to a variable for further use."
      ],
      "metadata": {
        "id": "lBUWrHVd3vkY"
      }
    },
    {
      "cell_type": "code",
      "source": [
        "my_array = np.array([[212311,1213,13,1231,12,1231,],\n",
        "                     [13,131,313,13,12312,1312]])\n",
        "my_array"
      ],
      "metadata": {
        "colab": {
          "base_uri": "https://localhost:8080/"
        },
        "id": "0z6ZfAG_5DGx",
        "outputId": "af571c66-aa04-4153-85b7-60aa1ea0ea56"
      },
      "execution_count": 12,
      "outputs": [
        {
          "output_type": "execute_result",
          "data": {
            "text/plain": [
              "array([[212311,   1213,     13,   1231,     12,   1231],\n",
              "       [    13,    131,    313,     13,  12312,   1312]])"
            ]
          },
          "metadata": {},
          "execution_count": 12
        }
      ]
    },
    {
      "cell_type": "code",
      "source": [
        "# 1. np.save('my_array', a)\n",
        "\n",
        "np.save('a', my_array) # saving of my_array into a variable\n",
        "\n",
        "# 3. np.load('my_array.npy')\n",
        "np.load('a.npy') # loading of 'a' array\n"
      ],
      "metadata": {
        "colab": {
          "base_uri": "https://localhost:8080/"
        },
        "id": "Xg1z9Nlc5WS2",
        "outputId": "644ed703-71c3-44e7-80e1-796c42d3633e"
      },
      "execution_count": 18,
      "outputs": [
        {
          "output_type": "execute_result",
          "data": {
            "text/plain": [
              "array([[212311,   1213,     13,   1231,     12,   1231],\n",
              "       [    13,    131,    313,     13,  12312,   1312]])"
            ]
          },
          "metadata": {},
          "execution_count": 18
        }
      ]
    },
    {
      "cell_type": "code",
      "source": [
        "# 2. np.savez('array.npz', a, b)\n",
        "\n",
        "a = np.array([1,23,2,2,4,3,2,1])\n",
        "b = np.array([1213,23,1,1,2,1,1,23,31,12,23,112,31])\n",
        "\n",
        "np.savez('array.npz', a, b)\n",
        "\n",
        "# Load the .npz file\n",
        "loaded_data = np.load('array.npz')\n",
        "\n",
        "# Access the arrays from the loaded data\n",
        "a = loaded_data['arr_0']\n",
        "b = loaded_data['arr_1']\n",
        "\n",
        "# Now you can use the loaded arrays for further computations or analysis\n",
        "print(a)\n",
        "print(b)\n"
      ],
      "metadata": {
        "colab": {
          "base_uri": "https://localhost:8080/"
        },
        "id": "CcegIlOJ48zT",
        "outputId": "3ea6cc77-68e2-4c1f-f4db-f4fef59f69ee"
      },
      "execution_count": 23,
      "outputs": [
        {
          "output_type": "stream",
          "name": "stdout",
          "text": [
            "[ 1 23  2  2  4  3  2  1]\n",
            "[1213   23    1    1    2    1    1   23   31   12   23  112   31]\n"
          ]
        }
      ]
    },
    {
      "cell_type": "markdown",
      "source": [
        "### **1. np.loadtxt(\"myfile.txt\") :**\n",
        "`np.loadtxt(\"myfile.txt\")` loads data from a text file named \"myfile.txt\" into a NumPy array. The text file should contain numerical data, where columns are separated by spaces, tabs, or commas. Each row in the text file corresponds to a row in the resulting NumPy array.\n",
        "\n",
        "Here's how you can use it:\n",
        "\n",
        "```python\n",
        "import numpy as np\n",
        "\n",
        "# Load data from the text file into a NumPy array\n",
        "data = np.loadtxt(\"myfile.txt\")\n",
        "\n",
        "# Now you can use the 'data' array for further computations or analysis\n",
        "print(data)\n",
        "```\n",
        "\n",
        "This code loads the data from \"myfile.txt\" into the `data` array, which you can then use for various purposes, such as analysis, visualization, or further processing.\n",
        "\n",
        "### **2. np.genfromtxt(\"my_file.csv\", delimiter=',') :**\n",
        "`np.genfromtxt(\"my_file.csv\", delimiter=',')` loads data from a CSV (Comma Separated Values) file named \"my_file.csv\" into a NumPy array. This function is similar to `np.loadtxt()`, but it can handle missing values and different data types more effectively. The delimiter parameter specifies the character used to separate values in the CSV file, which is typically a comma (`,`).\n",
        "\n",
        "Here's an example code:\n",
        "\n",
        "```python\n",
        "import numpy as np\n",
        "\n",
        "# Load data from the CSV file into a NumPy array\n",
        "data = np.genfromtxt(\"my_file.csv\", delimiter=',')\n",
        "\n",
        "# Now you can use the 'data' array for further computations or analysis\n",
        "print(data)\n",
        "```\n",
        "\n",
        "This code reads data from \"my_file.csv\" where values are separated by commas and stores it into the `data` array. You can then use this array for various data analysis tasks.\n",
        "\n",
        "\n",
        "### **3. np.savetxt(\"myarray.txt\", a, delimiter=\" \") :**\n",
        "`np.savetxt(\"myarray.txt\", a, delimiter=\" \")` saves a NumPy array `a` into a text file named \"myarray.txt\". Each element of the array is written to the file separated by a space, and rows of the array are written to separate lines in the file.\n",
        "\n",
        "Here's an example code:\n",
        "\n",
        "```python\n",
        "import numpy as np\n",
        "\n",
        "# Assuming 'a' is a NumPy array\n",
        "a = np.array([[1, 2, 3],\n",
        "              [4, 5, 6]])\n",
        "\n",
        "# Save the array 'a' into a text file \"myarray.txt\"\n",
        "np.savetxt(\"myarray.txt\", a, delimiter=\" \")\n",
        "\n",
        "# This will create a text file \"myarray.txt\" with the following content:\n",
        "# 1 2 3\n",
        "# 4 5 6\n",
        "```\n",
        "\n",
        "In this code, the NumPy array `a` is saved into the file \"myarray.txt\" with elements separated by spaces. Each row of the array is written to a separate line in the file."
      ],
      "metadata": {
        "id": "p2Fpe_Ju7HRX"
      }
    },
    {
      "cell_type": "markdown",
      "source": [
        "### **4. np.random**\n",
        "\n",
        "using np.random method we can make an array of random numbers.\n"
      ],
      "metadata": {
        "id": "2BuL_VZNh9q2"
      }
    },
    {
      "cell_type": "code",
      "source": [
        "np.random.random(3)"
      ],
      "metadata": {
        "colab": {
          "base_uri": "https://localhost:8080/"
        },
        "id": "9wW7ERXGhlI6",
        "outputId": "098b5a63-83ed-44b9-a6aa-08a66e748c13"
      },
      "execution_count": 43,
      "outputs": [
        {
          "output_type": "execute_result",
          "data": {
            "text/plain": [
              "array([0.92337391, 0.77339409, 0.31805483])"
            ]
          },
          "metadata": {},
          "execution_count": 43
        }
      ]
    },
    {
      "cell_type": "code",
      "source": [
        "np.random.random((3,3))"
      ],
      "metadata": {
        "colab": {
          "base_uri": "https://localhost:8080/"
        },
        "id": "Ke01pmdxiefN",
        "outputId": "ec7501b7-c0a0-4c1f-c8f9-040c0a5c6ee5"
      },
      "execution_count": 44,
      "outputs": [
        {
          "output_type": "execute_result",
          "data": {
            "text/plain": [
              "array([[0.45515293, 0.32752432, 0.38808425],\n",
              "       [0.85826564, 0.01455121, 0.73981678],\n",
              "       [0.31158966, 0.63472734, 0.91840814]])"
            ]
          },
          "metadata": {},
          "execution_count": 44
        }
      ]
    },
    {
      "cell_type": "code",
      "source": [
        "np.random.random((2,3,4))"
      ],
      "metadata": {
        "colab": {
          "base_uri": "https://localhost:8080/"
        },
        "id": "MsGDSeFiijwX",
        "outputId": "5696ef01-2337-469f-9735-29c7851a6a55"
      },
      "execution_count": 45,
      "outputs": [
        {
          "output_type": "execute_result",
          "data": {
            "text/plain": [
              "array([[[0.40793134, 0.22845317, 0.87825711, 0.5714139 ],\n",
              "        [0.57200852, 0.8635044 , 0.13972237, 0.76569648],\n",
              "        [0.79148596, 0.68043154, 0.55955392, 0.06271476]],\n",
              "\n",
              "       [[0.01687988, 0.3936354 , 0.68965113, 0.96291316],\n",
              "        [0.44901904, 0.85892731, 0.19798058, 0.19367687],\n",
              "        [0.11903976, 0.81569804, 0.97271019, 0.75067085]]])"
            ]
          },
          "metadata": {},
          "execution_count": 45
        }
      ]
    },
    {
      "cell_type": "code",
      "source": [
        "np.random.randint((5,4))"
      ],
      "metadata": {
        "colab": {
          "base_uri": "https://localhost:8080/"
        },
        "id": "2-O_NFeuivZZ",
        "outputId": "a967b318-24d5-4a02-c165-43d6b3392ef7"
      },
      "execution_count": 46,
      "outputs": [
        {
          "output_type": "execute_result",
          "data": {
            "text/plain": [
              "array([1, 3])"
            ]
          },
          "metadata": {},
          "execution_count": 46
        }
      ]
    },
    {
      "cell_type": "markdown",
      "source": [
        "### **np.linspace**\n",
        "\n",
        "np.linspace(lower range,upper range,number want to generate)\n",
        "\n",
        "`np.linspace` is a NumPy function used to create an array of evenly spaced numbers over a specified interval. It takes parameters for start, stop, and the number of elements to generate. Unlike `np.arange`, it includes the stop value and divides the interval into equal parts.\n",
        "\n",
        "numpy.linspace(start, stop, num=50, endpoint=True, retstep=False, dtype=None, axis=0)"
      ],
      "metadata": {
        "id": "6lpf187LjL7y"
      }
    },
    {
      "cell_type": "code",
      "source": [
        "np.linspace(1,10, num = 10)"
      ],
      "metadata": {
        "colab": {
          "base_uri": "https://localhost:8080/"
        },
        "id": "8fSaGbgiirCn",
        "outputId": "b9f3789d-68e1-4390-c983-a5d1768257e8"
      },
      "execution_count": 47,
      "outputs": [
        {
          "output_type": "execute_result",
          "data": {
            "text/plain": [
              "array([ 1.,  2.,  3.,  4.,  5.,  6.,  7.,  8.,  9., 10.])"
            ]
          },
          "metadata": {},
          "execution_count": 47
        }
      ]
    },
    {
      "cell_type": "code",
      "source": [
        "np.linspace(2.0, 3.0, num=5, endpoint=False)"
      ],
      "metadata": {
        "colab": {
          "base_uri": "https://localhost:8080/"
        },
        "id": "uGcrQVn4kzAt",
        "outputId": "968678a2-63f0-4310-81cf-4782d4d27011"
      },
      "execution_count": 48,
      "outputs": [
        {
          "output_type": "execute_result",
          "data": {
            "text/plain": [
              "array([2. , 2.2, 2.4, 2.6, 2.8])"
            ]
          },
          "metadata": {},
          "execution_count": 48
        }
      ]
    },
    {
      "cell_type": "code",
      "source": [
        "np.linspace(2.0, 3.0, num=5, retstep=True)"
      ],
      "metadata": {
        "colab": {
          "base_uri": "https://localhost:8080/"
        },
        "id": "R3y_uGACk4la",
        "outputId": "e3ba2da2-e4e2-4ffb-c815-1c3706b2b8d3"
      },
      "execution_count": 49,
      "outputs": [
        {
          "output_type": "execute_result",
          "data": {
            "text/plain": [
              "(array([2.  , 2.25, 2.5 , 2.75, 3.  ]), 0.25)"
            ]
          },
          "metadata": {},
          "execution_count": 49
        }
      ]
    },
    {
      "cell_type": "code",
      "source": [
        "import matplotlib.pyplot as plt\n",
        "N = 8\n",
        "y = np.zeros(N)\n",
        "x1 = np.linspace(0, 10, N, endpoint=True)\n",
        "x2 = np.linspace(0, 10, N, endpoint=False)\n",
        "plt.plot(x1, y, 'o')\n",
        "plt.plot(x2, y + 0.5, 'o')\n",
        "plt.ylim([-0.5, 1])\n",
        "plt.show()"
      ],
      "metadata": {
        "colab": {
          "base_uri": "https://localhost:8080/",
          "height": 435
        },
        "id": "2Z8nm_bSlIDQ",
        "outputId": "1fdb5eee-c3c9-46f3-f103-5da15b78de3f"
      },
      "execution_count": 50,
      "outputs": [
        {
          "output_type": "display_data",
          "data": {
            "text/plain": [
              "<Figure size 640x480 with 1 Axes>"
            ],
            "image/png": "[encoded data removed]"
          },
          "metadata": {}
        }
      ]
    },
    {
      "cell_type": "markdown",
      "source": [
        "### **np.identity**\n",
        "\n",
        "numpy.identity(n, dtype=None, *, like=None)\n",
        "\n",
        "Return the identity array.\n",
        "\n",
        "The identity array is a square array with ones on the main diagonal.\n",
        "\n",
        "Parameters:\n",
        "1. n : int\n",
        "Number of rows (and columns) in n x n output.\n",
        "\n",
        "2. dtypedata-type, optional\n",
        "Data-type of the output. Defaults to float.\n",
        "\n",
        "3. likearray_like, optional\n",
        "Reference object to allow the creation of arrays which are not NumPy arrays. If an array-like passed in as like supports the __array_function__ protocol, the result will be defined by it. In this case, it ensures the creation of an array object compatible with that passed in via this argument."
      ],
      "metadata": {
        "id": "tHPrhGpzlcMB"
      }
    },
    {
      "cell_type": "code",
      "source": [
        "np.identity(4)"
      ],
      "metadata": {
        "colab": {
          "base_uri": "https://localhost:8080/"
        },
        "id": "odA9NcjPm8ir",
        "outputId": "bc0b8f97-4f11-4739-8654-59723b761efc"
      },
      "execution_count": 51,
      "outputs": [
        {
          "output_type": "execute_result",
          "data": {
            "text/plain": [
              "array([[1., 0., 0., 0.],\n",
              "       [0., 1., 0., 0.],\n",
              "       [0., 0., 1., 0.],\n",
              "       [0., 0., 0., 1.]])"
            ]
          },
          "metadata": {},
          "execution_count": 51
        }
      ]
    },
    {
      "cell_type": "code",
      "source": [
        "np.identity((4, dtype = 'int'))"
      ],
      "metadata": {
        "colab": {
          "base_uri": "https://localhost:8080/",
          "height": 108
        },
        "id": "6SWLDizumpGL",
        "outputId": "5b2af506-e041-4952-fe11-2521b69fe764"
      },
      "execution_count": 115,
      "outputs": [
        {
          "output_type": "error",
          "ename": "SyntaxError",
          "evalue": "invalid syntax. Maybe you meant '==' or ':=' instead of '='? (<ipython-input-115-30bb9d28e5d8>, line 1)",
          "traceback": [
            "\u001b[0;36m  File \u001b[0;32m\"<ipython-input-115-30bb9d28e5d8>\"\u001b[0;36m, line \u001b[0;32m1\u001b[0m\n\u001b[0;31m    np.identity((4, dtype = 'int'))\u001b[0m\n\u001b[0m                    ^\u001b[0m\n\u001b[0;31mSyntaxError\u001b[0m\u001b[0;31m:\u001b[0m invalid syntax. Maybe you meant '==' or ':=' instead of '='?\n"
          ]
        }
      ]
    },
    {
      "cell_type": "code",
      "source": [
        "np.identity(4, dtype='int')"
      ],
      "metadata": {
        "colab": {
          "base_uri": "https://localhost:8080/"
        },
        "id": "wpfnDlIqlaYD",
        "outputId": "8a3baf00-2c74-4937-ac6a-f72524c404b4"
      },
      "execution_count": 53,
      "outputs": [
        {
          "output_type": "execute_result",
          "data": {
            "text/plain": [
              "array([[1, 0, 0, 0],\n",
              "       [0, 1, 0, 0],\n",
              "       [0, 0, 1, 0],\n",
              "       [0, 0, 0, 1]])"
            ]
          },
          "metadata": {},
          "execution_count": 53
        }
      ]
    },
    {
      "cell_type": "markdown",
      "source": [
        "# **2. Array Attributes**"
      ],
      "metadata": {
        "id": "JT_Nm5tFm1M8"
      }
    },
    {
      "cell_type": "code",
      "source": [
        "a1 = np.arange(10)\n",
        "a2 = np.arange(12, dtype = 'float').reshape(3,4)\n",
        "a3 = np.arange(8).reshape(2,2,2)\n",
        "print(\"Array 1 :\")\n",
        "print(a1)\n",
        "print()\n",
        "print(\"Array 2 :\")\n",
        "print(a2)\n",
        "print()\n",
        "print(\"Array 3 :\")\n",
        "print(a3)"
      ],
      "metadata": {
        "colab": {
          "base_uri": "https://localhost:8080/"
        },
        "id": "mF5ky5PrmznE",
        "outputId": "035749aa-a074-4dcd-ae90-8651edb0f824"
      },
      "execution_count": 54,
      "outputs": [
        {
          "output_type": "stream",
          "name": "stdout",
          "text": [
            "Array 1 :\n",
            "[0 1 2 3 4 5 6 7 8 9]\n",
            "\n",
            "Array 2 :\n",
            "[[ 0.  1.  2.  3.]\n",
            " [ 4.  5.  6.  7.]\n",
            " [ 8.  9. 10. 11.]]\n",
            "\n",
            "Array 3 :\n",
            "[[[0 1]\n",
            "  [2 3]]\n",
            "\n",
            " [[4 5]\n",
            "  [6 7]]]\n"
          ]
        }
      ]
    },
    {
      "cell_type": "markdown",
      "source": [
        "### **np.ndim**\n",
        "\n",
        "Number of array dimensions."
      ],
      "metadata": {
        "id": "2VGnaBTXnsCS"
      }
    },
    {
      "cell_type": "code",
      "source": [
        "print(np.ndim(a1))\n",
        "\n",
        "print(np.ndim(a2))\n",
        "\n",
        "print(np.ndim(a3))"
      ],
      "metadata": {
        "colab": {
          "base_uri": "https://localhost:8080/"
        },
        "id": "QmSB-GTxnqyU",
        "outputId": "511020ac-c73b-463b-f02e-9466fcbee950"
      },
      "execution_count": 55,
      "outputs": [
        {
          "output_type": "stream",
          "name": "stdout",
          "text": [
            "1\n",
            "2\n",
            "3\n"
          ]
        }
      ]
    },
    {
      "cell_type": "markdown",
      "source": [
        "### **np.shape**\n",
        "\n",
        "Return the shape of an array.\n",
        "\n",
        "The \"shape\" of an array is a tuple with the number of elements per axis (dimension)."
      ],
      "metadata": {
        "id": "bQZkL7XGoWye"
      }
    },
    {
      "cell_type": "code",
      "source": [
        "print(np.shape(a1))\n",
        "\n",
        "print(np.shape(a2))\n",
        "\n",
        "print(np.shape(a3))"
      ],
      "metadata": {
        "colab": {
          "base_uri": "https://localhost:8080/"
        },
        "id": "Q7QYZzxSoVmc",
        "outputId": "99112caa-b8d4-4870-a490-e3a6c2f08729"
      },
      "execution_count": 56,
      "outputs": [
        {
          "output_type": "stream",
          "name": "stdout",
          "text": [
            "(10,)\n",
            "(3, 4)\n",
            "(2, 2, 2)\n"
          ]
        }
      ]
    },
    {
      "cell_type": "markdown",
      "source": [
        "### **np.size**\n",
        "\n",
        "Number of elements in the array.\n",
        "\n",
        "Equal to np.prod(a.shape), i.e., the product of the array’s dimensions."
      ],
      "metadata": {
        "id": "3PIQ_-_8o7mb"
      }
    },
    {
      "cell_type": "code",
      "source": [
        "print(np.size(a1))\n",
        "\n",
        "print(np.size(a2))\n",
        "\n",
        "print(np.size(a3))"
      ],
      "metadata": {
        "colab": {
          "base_uri": "https://localhost:8080/"
        },
        "id": "rziVQm7Lo22B",
        "outputId": "e1507682-dda5-4f71-f2a9-f7510257b28f"
      },
      "execution_count": 57,
      "outputs": [
        {
          "output_type": "stream",
          "name": "stdout",
          "text": [
            "10\n",
            "12\n",
            "8\n"
          ]
        }
      ]
    },
    {
      "cell_type": "markdown",
      "source": [
        "### **np.itemsize**\n",
        "\n",
        "Length of one array element in bytes."
      ],
      "metadata": {
        "id": "0Swgn-hkpnrS"
      }
    },
    {
      "cell_type": "code",
      "source": [
        "print(a1.itemsize)\n",
        "\n",
        "print(a2.itemsize)\n",
        "\n",
        "print(a3.itemsize)"
      ],
      "metadata": {
        "colab": {
          "base_uri": "https://localhost:8080/"
        },
        "id": "uJDeV09fpeqg",
        "outputId": "a2d6380d-930a-41fb-b93b-7badb2e72d69"
      },
      "execution_count": 58,
      "outputs": [
        {
          "output_type": "stream",
          "name": "stdout",
          "text": [
            "8\n",
            "8\n",
            "8\n"
          ]
        }
      ]
    },
    {
      "cell_type": "code",
      "source": [
        "x = np.array([1,2,3], dtype=np.float64)\n",
        "print(x.itemsize)\n",
        "x = np.array([1,2,3], dtype=np.complex128)\n",
        "print(x.itemsize)"
      ],
      "metadata": {
        "colab": {
          "base_uri": "https://localhost:8080/"
        },
        "id": "li4F9oGep_KL",
        "outputId": "0def0320-0ca4-45e2-9ab4-dfadffd45c50"
      },
      "execution_count": 59,
      "outputs": [
        {
          "output_type": "stream",
          "name": "stdout",
          "text": [
            "8\n",
            "16\n"
          ]
        }
      ]
    },
    {
      "cell_type": "markdown",
      "source": [
        "### **dtype**"
      ],
      "metadata": {
        "id": "M0wyI7bNqPbx"
      }
    },
    {
      "cell_type": "code",
      "source": [
        "a1.dtype"
      ],
      "metadata": {
        "colab": {
          "base_uri": "https://localhost:8080/"
        },
        "id": "AcUdKvWzqJna",
        "outputId": "b39c118d-e92f-44f3-f818-0be1886185a6"
      },
      "execution_count": 60,
      "outputs": [
        {
          "output_type": "execute_result",
          "data": {
            "text/plain": [
              "dtype('int64')"
            ]
          },
          "metadata": {},
          "execution_count": 60
        }
      ]
    },
    {
      "cell_type": "code",
      "source": [
        "a2"
      ],
      "metadata": {
        "colab": {
          "base_uri": "https://localhost:8080/"
        },
        "id": "WlGSNpqsqh0H",
        "outputId": "5ed67c16-2132-4ee8-a2be-f550a66a7853"
      },
      "execution_count": 61,
      "outputs": [
        {
          "output_type": "execute_result",
          "data": {
            "text/plain": [
              "array([[ 0.,  1.,  2.,  3.],\n",
              "       [ 4.,  5.,  6.,  7.],\n",
              "       [ 8.,  9., 10., 11.]])"
            ]
          },
          "metadata": {},
          "execution_count": 61
        }
      ]
    },
    {
      "cell_type": "code",
      "source": [
        "print(a2.dtype)"
      ],
      "metadata": {
        "colab": {
          "base_uri": "https://localhost:8080/"
        },
        "id": "woJ3DsqzqcQ3",
        "outputId": "fab1f857-d2d6-412e-9f91-59ec285a5f21"
      },
      "execution_count": 62,
      "outputs": [
        {
          "output_type": "stream",
          "name": "stdout",
          "text": [
            "float64\n"
          ]
        }
      ]
    },
    {
      "cell_type": "markdown",
      "source": [
        "### **np.astype**\n",
        "\n",
        "ndarray.astype(dtype, order='K', casting='unsafe', subok=True, copy=True)\n",
        "Copy of the array, cast to a specified type."
      ],
      "metadata": {
        "id": "T_K-AnyBqlz3"
      }
    },
    {
      "cell_type": "code",
      "source": [
        "a2.astype('int')"
      ],
      "metadata": {
        "colab": {
          "base_uri": "https://localhost:8080/"
        },
        "id": "_6fKmJPVqjbf",
        "outputId": "7705f2c4-3400-41f7-a9bf-ee8422f51773"
      },
      "execution_count": 63,
      "outputs": [
        {
          "output_type": "execute_result",
          "data": {
            "text/plain": [
              "array([[ 0,  1,  2,  3],\n",
              "       [ 4,  5,  6,  7],\n",
              "       [ 8,  9, 10, 11]])"
            ]
          },
          "metadata": {},
          "execution_count": 63
        }
      ]
    },
    {
      "cell_type": "markdown",
      "source": [
        "# **3. Array Operations**"
      ],
      "metadata": {
        "id": "ySS_TZKdreOi"
      }
    },
    {
      "cell_type": "markdown",
      "source": [
        "### **Arithmatic Operations**"
      ],
      "metadata": {
        "id": "bIDeOhNKtej8"
      }
    },
    {
      "cell_type": "code",
      "source": [
        "# Element wise Addition\n",
        "\n",
        "n = np.array([1,2,3,4])\n",
        "m = np.array([5,4,3,2])\n",
        "\n",
        "\n",
        "print(n + m)\n",
        "print()\n",
        "print(np.add(n,m))\n",
        "\n"
      ],
      "metadata": {
        "colab": {
          "base_uri": "https://localhost:8080/"
        },
        "id": "xYJFaw3ZtiY_",
        "outputId": "6baeb1b0-dfee-44df-edc5-5e02e637adad"
      },
      "execution_count": 224,
      "outputs": [
        {
          "output_type": "stream",
          "name": "stdout",
          "text": [
            "[6 6 6 6]\n",
            "\n",
            "[6 6 6 6]\n"
          ]
        }
      ]
    },
    {
      "cell_type": "code",
      "source": [
        "# Element wise subtraction\n",
        "\n",
        "print(n - m)\n",
        "print()\n",
        "print(np.subtract(n,m))"
      ],
      "metadata": {
        "colab": {
          "base_uri": "https://localhost:8080/"
        },
        "id": "BXBWI3q9uL-v",
        "outputId": "f292d00a-c5b0-4aa3-fbe2-75f7121622f1"
      },
      "execution_count": 226,
      "outputs": [
        {
          "output_type": "stream",
          "name": "stdout",
          "text": [
            "[-4 -2  0  2]\n",
            "\n",
            "[-4 -2  0  2]\n"
          ]
        }
      ]
    },
    {
      "cell_type": "code",
      "source": [
        "# Element wise Multiplication\n",
        "\n",
        "print(n * m)\n",
        "print()\n",
        "print(np.multiply(n,m))"
      ],
      "metadata": {
        "colab": {
          "base_uri": "https://localhost:8080/"
        },
        "id": "wCB3slmFufP-",
        "outputId": "8b147d81-46e5-42cf-ed48-08a4842b681e"
      },
      "execution_count": 229,
      "outputs": [
        {
          "output_type": "stream",
          "name": "stdout",
          "text": [
            "[5 8 9 8]\n",
            "\n",
            "[5 8 9 8]\n"
          ]
        }
      ]
    },
    {
      "cell_type": "code",
      "source": [
        "# Element wise division\n",
        "\n",
        "print(n/m)\n",
        "print()\n",
        "print(np.divide(n,m))"
      ],
      "metadata": {
        "colab": {
          "base_uri": "https://localhost:8080/"
        },
        "id": "3H_b3TpWup7-",
        "outputId": "d113c20f-9251-4c83-ab70-bc324129c08b"
      },
      "execution_count": 231,
      "outputs": [
        {
          "output_type": "stream",
          "name": "stdout",
          "text": [
            "[0.2 0.5 1.  2. ]\n",
            "\n",
            "[0.2 0.5 1.  2. ]\n"
          ]
        }
      ]
    },
    {
      "cell_type": "markdown",
      "source": [
        "### **Scalar Operations**"
      ],
      "metadata": {
        "id": "WCSN3ZVLr-bc"
      }
    },
    {
      "cell_type": "code",
      "source": [
        "a = np.arange(12).reshape(3,4)\n",
        "b = np.arange(6,18).reshape(3,4)"
      ],
      "metadata": {
        "id": "QTZqK8IxrC1a"
      },
      "execution_count": 243,
      "outputs": []
    },
    {
      "cell_type": "code",
      "source": [
        "a"
      ],
      "metadata": {
        "colab": {
          "base_uri": "https://localhost:8080/"
        },
        "id": "MIlJNt3Tr6VM",
        "outputId": "391ce54f-5a92-422b-ad05-93af0c3e7646"
      },
      "execution_count": 244,
      "outputs": [
        {
          "output_type": "execute_result",
          "data": {
            "text/plain": [
              "array([[ 0,  1,  2,  3],\n",
              "       [ 4,  5,  6,  7],\n",
              "       [ 8,  9, 10, 11]])"
            ]
          },
          "metadata": {},
          "execution_count": 244
        }
      ]
    },
    {
      "cell_type": "code",
      "source": [
        "b"
      ],
      "metadata": {
        "colab": {
          "base_uri": "https://localhost:8080/"
        },
        "id": "H5hKAj0hr7Ba",
        "outputId": "a6e55fa6-b646-4303-c3dd-ac93a6ee2161"
      },
      "execution_count": 245,
      "outputs": [
        {
          "output_type": "execute_result",
          "data": {
            "text/plain": [
              "array([[ 6,  7,  8,  9],\n",
              "       [10, 11, 12, 13],\n",
              "       [14, 15, 16, 17]])"
            ]
          },
          "metadata": {},
          "execution_count": 245
        }
      ]
    },
    {
      "cell_type": "code",
      "source": [
        "a + 2, b + 2"
      ],
      "metadata": {
        "colab": {
          "base_uri": "https://localhost:8080/"
        },
        "id": "740F6X-8r90q",
        "outputId": "c47f994a-191b-4a90-9017-4f5d94674d11"
      },
      "execution_count": 246,
      "outputs": [
        {
          "output_type": "execute_result",
          "data": {
            "text/plain": [
              "(array([[ 2,  3,  4,  5],\n",
              "        [ 6,  7,  8,  9],\n",
              "        [10, 11, 12, 13]]),\n",
              " array([[ 8,  9, 10, 11],\n",
              "        [12, 13, 14, 15],\n",
              "        [16, 17, 18, 19]]))"
            ]
          },
          "metadata": {},
          "execution_count": 246
        }
      ]
    },
    {
      "cell_type": "code",
      "source": [
        "a,b"
      ],
      "metadata": {
        "colab": {
          "base_uri": "https://localhost:8080/"
        },
        "id": "NziJafW3s2rt",
        "outputId": "549bad87-1c61-4e29-c56d-42fc5f5454ea"
      },
      "execution_count": 249,
      "outputs": [
        {
          "output_type": "execute_result",
          "data": {
            "text/plain": [
              "(array([[ 0,  1,  2,  3],\n",
              "        [ 4,  5,  6,  7],\n",
              "        [ 8,  9, 10, 11]]),\n",
              " array([[ 6,  7,  8,  9],\n",
              "        [10, 11, 12, 13],\n",
              "        [14, 15, 16, 17]]))"
            ]
          },
          "metadata": {},
          "execution_count": 249
        }
      ]
    },
    {
      "cell_type": "code",
      "source": [
        "# Relational operation\n",
        "\n",
        "b >= a, a==b, a>=b"
      ],
      "metadata": {
        "colab": {
          "base_uri": "https://localhost:8080/"
        },
        "id": "Q9Ymr3UesP5s",
        "outputId": "cf640361-6f99-42fd-cbf1-e3f9170b2a6c"
      },
      "execution_count": 251,
      "outputs": [
        {
          "output_type": "execute_result",
          "data": {
            "text/plain": [
              "(array([[ True,  True,  True,  True],\n",
              "        [ True,  True,  True,  True],\n",
              "        [ True,  True,  True,  True]]),\n",
              " array([[False, False, False, False],\n",
              "        [False, False, False, False],\n",
              "        [False, False, False, False]]),\n",
              " array([[False, False, False, False],\n",
              "        [False, False, False, False],\n",
              "        [False, False, False, False]]))"
            ]
          },
          "metadata": {},
          "execution_count": 251
        }
      ]
    },
    {
      "cell_type": "code",
      "source": [
        "np.array_equal(a,b)"
      ],
      "metadata": {
        "colab": {
          "base_uri": "https://localhost:8080/"
        },
        "id": "9LQyXd8jv2fE",
        "outputId": "f14c2046-d8ac-4300-f1b5-2ce8b24d26d5"
      },
      "execution_count": 252,
      "outputs": [
        {
          "output_type": "execute_result",
          "data": {
            "text/plain": [
              "False"
            ]
          },
          "metadata": {},
          "execution_count": 252
        }
      ]
    },
    {
      "cell_type": "code",
      "source": [
        "h = np.array([1,2,3,4,5])\n",
        "k = np.array([1,2,3,4,5])\n",
        "np.array_equal(h,k)"
      ],
      "metadata": {
        "colab": {
          "base_uri": "https://localhost:8080/"
        },
        "id": "EhucnWmRv7fb",
        "outputId": "ad546d97-beab-4986-c65a-cd251127d2e2"
      },
      "execution_count": 255,
      "outputs": [
        {
          "output_type": "execute_result",
          "data": {
            "text/plain": [
              "True"
            ]
          },
          "metadata": {},
          "execution_count": 255
        }
      ]
    },
    {
      "cell_type": "code",
      "source": [
        "h = np.array([1,2,3,4,5])\n",
        "k = np.array([1,2,3,4])\n",
        "np.array_equal(h,k)"
      ],
      "metadata": {
        "colab": {
          "base_uri": "https://localhost:8080/"
        },
        "id": "i_3BOPmYwIF6",
        "outputId": "82ec41cc-00a4-48a6-8cde-b2fb1bf6ed66"
      },
      "execution_count": 257,
      "outputs": [
        {
          "output_type": "execute_result",
          "data": {
            "text/plain": [
              "False"
            ]
          },
          "metadata": {},
          "execution_count": 257
        }
      ]
    },
    {
      "cell_type": "markdown",
      "source": [
        "### **Matrix Multiplication**\n",
        "Returns matrix mul. of arrays provided the condition for matrix multiplication is satisfied."
      ],
      "metadata": {
        "id": "v6mp1bEqsKI2"
      }
    },
    {
      "cell_type": "code",
      "source": [
        "v1 = np.array([[2], [1]]) # shape = (2,1)\n",
        "v2 = np.array([[2, 4]]) # shape = (1,2)\n",
        "v1,v2"
      ],
      "metadata": {
        "colab": {
          "base_uri": "https://localhost:8080/"
        },
        "id": "yYdLgjrKsOBB",
        "outputId": "02f6593e-8643-43f3-8290-a5c7d34e80a8"
      },
      "execution_count": 259,
      "outputs": [
        {
          "output_type": "execute_result",
          "data": {
            "text/plain": [
              "(array([[2],\n",
              "        [1]]),\n",
              " array([[2, 4]]))"
            ]
          },
          "metadata": {},
          "execution_count": 259
        }
      ]
    },
    {
      "cell_type": "code",
      "source": [
        "np.matmul(v1,v2) # shape will be (2,2)"
      ],
      "metadata": {
        "colab": {
          "base_uri": "https://localhost:8080/"
        },
        "id": "oZG8dTEIxyo3",
        "outputId": "ce3f429d-b09e-4a66-eb54-1372f95d672c"
      },
      "execution_count": 260,
      "outputs": [
        {
          "output_type": "execute_result",
          "data": {
            "text/plain": [
              "array([[4, 8],\n",
              "       [2, 4]])"
            ]
          },
          "metadata": {},
          "execution_count": 260
        }
      ]
    },
    {
      "cell_type": "markdown",
      "source": [
        "### **dot multiplication**"
      ],
      "metadata": {
        "id": "YqR9L1LEyTCr"
      }
    },
    {
      "cell_type": "code",
      "source": [
        "# np.dot()\n",
        "\n",
        "np.dot(v1,v2)"
      ],
      "metadata": {
        "colab": {
          "base_uri": "https://localhost:8080/"
        },
        "id": "xEk4SBoayRsr",
        "outputId": "c03ee0b7-c70f-452e-f54c-8beca8e1ea81"
      },
      "execution_count": 261,
      "outputs": [
        {
          "output_type": "execute_result",
          "data": {
            "text/plain": [
              "array([[4, 8],\n",
              "       [2, 4]])"
            ]
          },
          "metadata": {},
          "execution_count": 261
        }
      ]
    },
    {
      "cell_type": "code",
      "source": [
        "np.dot(5,9)"
      ],
      "metadata": {
        "colab": {
          "base_uri": "https://localhost:8080/"
        },
        "id": "Kq0qVN0qyavZ",
        "outputId": "080af9bd-6cc1-4481-e685-e80d05bfaebe"
      },
      "execution_count": 262,
      "outputs": [
        {
          "output_type": "execute_result",
          "data": {
            "text/plain": [
              "45"
            ]
          },
          "metadata": {},
          "execution_count": 262
        }
      ]
    },
    {
      "cell_type": "markdown",
      "source": [
        "# **4. Array Functions**"
      ],
      "metadata": {
        "id": "ymPBMxhKtHRJ"
      }
    },
    {
      "cell_type": "markdown",
      "source": [
        "### **np.round**"
      ],
      "metadata": {
        "id": "8e2C2EREtdYx"
      }
    },
    {
      "cell_type": "code",
      "source": [
        "s = np.random.random((3,3))\n",
        "\n",
        "s = np.round(s * 6)\n",
        "s"
      ],
      "metadata": {
        "colab": {
          "base_uri": "https://localhost:8080/"
        },
        "id": "P-Dyt0eztF7t",
        "outputId": "02757529-4e60-4b6d-fc11-f0e549cea37d"
      },
      "execution_count": 35,
      "outputs": [
        {
          "output_type": "execute_result",
          "data": {
            "text/plain": [
              "array([[1., 1., 6.],\n",
              "       [1., 5., 2.],\n",
              "       [5., 3., 1.]])"
            ]
          },
          "metadata": {},
          "execution_count": 35
        }
      ]
    },
    {
      "cell_type": "code",
      "source": [
        "print(np.max(s))"
      ],
      "metadata": {
        "colab": {
          "base_uri": "https://localhost:8080/"
        },
        "id": "CxKrT1PYuRdn",
        "outputId": "eb90bd15-8903-405d-a41c-5be9dfbebdec"
      },
      "execution_count": 36,
      "outputs": [
        {
          "output_type": "stream",
          "name": "stdout",
          "text": [
            "6.0\n"
          ]
        }
      ]
    },
    {
      "cell_type": "code",
      "source": [
        "print(np.min(s))"
      ],
      "metadata": {
        "colab": {
          "base_uri": "https://localhost:8080/"
        },
        "id": "B3ssGLYtuUI_",
        "outputId": "bc44c7e5-cf40-444b-83ca-6dcd4897dfaa"
      },
      "execution_count": 37,
      "outputs": [
        {
          "output_type": "stream",
          "name": "stdout",
          "text": [
            "1.0\n"
          ]
        }
      ]
    },
    {
      "cell_type": "code",
      "source": [
        "'''np.sum()\n",
        "Sums all the elements of array\n",
        "Sums the elements along the vertical axis(rowwise).\n",
        "We can also take sum along horizontal axis (axis =1)'''\n",
        "\n",
        "print(np.sum(s))\n",
        "print(np.sum(s,axis = 0))\n",
        "print(np.sum(s,axis = 1))"
      ],
      "metadata": {
        "colab": {
          "base_uri": "https://localhost:8080/"
        },
        "id": "RIGPkohkuWak",
        "outputId": "5a38d8a9-7a4b-41ad-8651-8ce35173a939"
      },
      "execution_count": 38,
      "outputs": [
        {
          "output_type": "stream",
          "name": "stdout",
          "text": [
            "25.0\n",
            "[7. 9. 9.]\n",
            "[8. 8. 9.]\n"
          ]
        }
      ]
    },
    {
      "cell_type": "code",
      "source": [
        "print(np.prod(s))"
      ],
      "metadata": {
        "colab": {
          "base_uri": "https://localhost:8080/"
        },
        "id": "2akG7NtcuZYl",
        "outputId": "0fe45cd5-f790-4668-cf40-1746e43b9030"
      },
      "execution_count": 39,
      "outputs": [
        {
          "output_type": "stream",
          "name": "stdout",
          "text": [
            "900.0\n"
          ]
        }
      ]
    },
    {
      "cell_type": "code",
      "source": [
        "# if u want to find the minimum or maximum number in rows or columns then you can pass th e axis.\n",
        "# 0 --> columns and 1 --> rows\n",
        "\n",
        "s.max(axis = 0)"
      ],
      "metadata": {
        "colab": {
          "base_uri": "https://localhost:8080/"
        },
        "id": "voLrDr_2udAG",
        "outputId": "b8f5daae-553b-47cd-c43f-3291af438d4d"
      },
      "execution_count": 40,
      "outputs": [
        {
          "output_type": "execute_result",
          "data": {
            "text/plain": [
              "array([5., 5., 6.])"
            ]
          },
          "metadata": {},
          "execution_count": 40
        }
      ]
    },
    {
      "cell_type": "code",
      "source": [
        "'''np.min(array, axis = 0/1/2)\n",
        "Returns element with minimum value.\n",
        "Can also find mean row wise/ column wise/ depth wise using axis 0/1/2\n",
        "Other similar func: np.max()\n",
        "'''\n",
        "s.min(axis = 0)"
      ],
      "metadata": {
        "colab": {
          "base_uri": "https://localhost:8080/"
        },
        "id": "xKG2_HF_u_xv",
        "outputId": "4b64cde4-5e99-43eb-d733-3cf2f81eb560"
      },
      "execution_count": 41,
      "outputs": [
        {
          "output_type": "execute_result",
          "data": {
            "text/plain": [
              "array([1., 1., 1.])"
            ]
          },
          "metadata": {},
          "execution_count": 41
        }
      ]
    },
    {
      "cell_type": "code",
      "source": [
        "s.max(axis = 1)"
      ],
      "metadata": {
        "colab": {
          "base_uri": "https://localhost:8080/"
        },
        "id": "JnqxANBqu2xW",
        "outputId": "9b62a9cb-3b8b-4d35-b9f3-d7e5e8f63e69"
      },
      "execution_count": 42,
      "outputs": [
        {
          "output_type": "execute_result",
          "data": {
            "text/plain": [
              "array([6., 5., 5.])"
            ]
          },
          "metadata": {},
          "execution_count": 42
        }
      ]
    },
    {
      "cell_type": "code",
      "source": [
        "s.min(axis = 1)"
      ],
      "metadata": {
        "colab": {
          "base_uri": "https://localhost:8080/"
        },
        "id": "zgrO897YvM3s",
        "outputId": "6a9a0188-bbdf-4a4f-8810-c2b0578467ad"
      },
      "execution_count": 43,
      "outputs": [
        {
          "output_type": "execute_result",
          "data": {
            "text/plain": [
              "array([1., 1., 1.])"
            ]
          },
          "metadata": {},
          "execution_count": 43
        }
      ]
    },
    {
      "cell_type": "code",
      "source": [
        "# np.sqrt()\n",
        "\n",
        "np.sqrt(100)"
      ],
      "metadata": {
        "colab": {
          "base_uri": "https://localhost:8080/"
        },
        "id": "_l61okI8-ekf",
        "outputId": "60356ac7-3e6a-4e44-b71c-881289bd702d"
      },
      "execution_count": 26,
      "outputs": [
        {
          "output_type": "execute_result",
          "data": {
            "text/plain": [
              "10.0"
            ]
          },
          "metadata": {},
          "execution_count": 26
        }
      ]
    },
    {
      "cell_type": "code",
      "source": [
        "s"
      ],
      "metadata": {
        "colab": {
          "base_uri": "https://localhost:8080/"
        },
        "id": "EG9zlebh_F6Q",
        "outputId": "1c70cbbe-1d39-40a2-dbe5-0a672ce45e90"
      },
      "execution_count": 45,
      "outputs": [
        {
          "output_type": "execute_result",
          "data": {
            "text/plain": [
              "array([[1., 1., 6.],\n",
              "       [1., 5., 2.],\n",
              "       [5., 3., 1.]])"
            ]
          },
          "metadata": {},
          "execution_count": 45
        }
      ]
    },
    {
      "cell_type": "code",
      "source": [
        "# np.cumsum(axis = 0/1)\n",
        "\n",
        "print(np.cumsum(s, axis = 0)) #cumulative sum of matrix row wise\n",
        "\n",
        "print()\n",
        "\n",
        "print(np.cumsum(s, axis = 1)) #cumulative sum of matrix column wise"
      ],
      "metadata": {
        "colab": {
          "base_uri": "https://localhost:8080/"
        },
        "id": "L_bmSV4L-wWJ",
        "outputId": "62284374-3436-497b-c677-28e669d25c25"
      },
      "execution_count": 47,
      "outputs": [
        {
          "output_type": "stream",
          "name": "stdout",
          "text": [
            "[[1. 1. 6.]\n",
            " [2. 6. 8.]\n",
            " [7. 9. 9.]]\n",
            "\n",
            "[[1. 2. 8.]\n",
            " [1. 6. 8.]\n",
            " [5. 8. 9.]]\n"
          ]
        }
      ]
    },
    {
      "cell_type": "code",
      "source": [
        "# mean/median/std/var\n",
        "print(\"mean: \",np.mean(s))\n",
        "'''np.mean\n",
        "Takes mean of all the elements of array\n",
        "Takes mean along the horizontal axis (column wise)\n",
        "'''\n",
        "print(\"median: \",np.median(s))\n",
        "print(\"standard deviation: \",np.std(s))\n",
        "print(\"variance: \",np.var(s))"
      ],
      "metadata": {
        "colab": {
          "base_uri": "https://localhost:8080/"
        },
        "id": "WdjpCaL4vSrk",
        "outputId": "25bc2f0a-ef4e-4cb7-94c5-2a854738592e"
      },
      "execution_count": 80,
      "outputs": [
        {
          "output_type": "stream",
          "name": "stdout",
          "text": [
            "mean:  3.0\n",
            "median:  3.0\n",
            "standard deviation:  2.0\n",
            "variance:  4.0\n"
          ]
        }
      ]
    },
    {
      "cell_type": "markdown",
      "source": [
        "### **Dot product**\n",
        "\n",
        "np.dot(array1,array2)"
      ],
      "metadata": {
        "id": "HDWT915BwR8R"
      }
    },
    {
      "cell_type": "code",
      "source": [
        "x = np.arange(12).reshape(3,4)\n",
        "y = np.arange(12,24).reshape(4,3)\n",
        "print(x)\n",
        "print(\"*\"*20)\n",
        "print(\"shape of x :\", x.shape, \" and \", \"Shape of y : \", y.shape)\n",
        "print(\"*\"*20)\n",
        "print(y)\n",
        "print(\"-\"*20)\n",
        "np.dot(x,y)"
      ],
      "metadata": {
        "colab": {
          "base_uri": "https://localhost:8080/"
        },
        "id": "lDtmYxWSvbeU",
        "outputId": "226d3f9f-8fd7-43da-b56d-b1b75d623104"
      },
      "execution_count": 81,
      "outputs": [
        {
          "output_type": "stream",
          "name": "stdout",
          "text": [
            "[[ 0  1  2  3]\n",
            " [ 4  5  6  7]\n",
            " [ 8  9 10 11]]\n",
            "********************\n",
            "shape of x : (3, 4)  and  Shape of y :  (4, 3)\n",
            "********************\n",
            "[[12 13 14]\n",
            " [15 16 17]\n",
            " [18 19 20]\n",
            " [21 22 23]]\n",
            "--------------------\n"
          ]
        },
        {
          "output_type": "execute_result",
          "data": {
            "text/plain": [
              "array([[114, 120, 126],\n",
              "       [378, 400, 422],\n",
              "       [642, 680, 718]])"
            ]
          },
          "metadata": {},
          "execution_count": 81
        }
      ]
    },
    {
      "cell_type": "markdown",
      "source": [
        "### **Logical Operations**"
      ],
      "metadata": {
        "id": "bNIN2jX30ksQ"
      }
    },
    {
      "cell_type": "code",
      "source": [
        "# 1. np.any()\n",
        "'''Returns True if the any of the corresponding elements in the array follow provided condition'''\n",
        "\n",
        "arr1 = np.array([1, 3, 5, 2, 4])\n",
        "arr2 = np.array([8, 4, 7, 3, 6])\n",
        "\n",
        "print(np.any(arr1>arr2)) # Same as \"or\" operation\n",
        "print(np.any(arr1<arr2))"
      ],
      "metadata": {
        "colab": {
          "base_uri": "https://localhost:8080/"
        },
        "id": "XL85_oP61PPY",
        "outputId": "1a88308e-587a-4620-cd5b-83c5bfb74fed"
      },
      "execution_count": 275,
      "outputs": [
        {
          "output_type": "stream",
          "name": "stdout",
          "text": [
            "False\n",
            "True\n"
          ]
        }
      ]
    },
    {
      "cell_type": "code",
      "source": [
        "# 2. np.all()\n",
        "'''Returns True only if the all of the corresponding elements in the array follow provided condition'''\n",
        "\n",
        "print(np.all(arr1<arr2))\n",
        "print(np.all(arr1>arr2))"
      ],
      "metadata": {
        "colab": {
          "base_uri": "https://localhost:8080/"
        },
        "id": "3_DSxsbi1zT5",
        "outputId": "a63fe682-2601-4a4e-c397-ad56b14fad9a"
      },
      "execution_count": 277,
      "outputs": [
        {
          "output_type": "stream",
          "name": "stdout",
          "text": [
            "True\n",
            "False\n"
          ]
        }
      ]
    },
    {
      "cell_type": "code",
      "source": [
        "# 3. np.where()\n",
        "\n",
        "'''np.where(): This is a NumPy function that returns elements chosen from x or y based on the condition.\n",
        "condition = arr1 > 2: This is the condition to be evaluated. It checks if each element of array arr1 is greater than 2. The result of this condition will be a boolean array where True indicates that the corresponding element in arr1 is greater than 2, and False otherwise.\n",
        "x = 1: This specifies the value to choose from if the condition is True. In this case, it's 1.\n",
        "y = 0: This specifies the value to choose from if the condition is False. In this case, it's 0.'''\n",
        "\n",
        "import numpy as np\n",
        "\n",
        "# Example array\n",
        "arr1 = np.array([1, 3, 5, 2, 4])\n",
        "\n",
        "# Using np.where() with positional arguments\n",
        "result = np.where(arr1 > 2, 1, 0)\n",
        "\n",
        "print(result)"
      ],
      "metadata": {
        "colab": {
          "base_uri": "https://localhost:8080/"
        },
        "id": "vd1h9ezI2SUK",
        "outputId": "9ef3edbb-4e2f-49db-b5b9-edcea389e9b0"
      },
      "execution_count": 282,
      "outputs": [
        {
          "output_type": "stream",
          "name": "stdout",
          "text": [
            "[0 1 1 0 1]\n"
          ]
        }
      ]
    },
    {
      "cell_type": "code",
      "source": [
        "# log and exponents\n",
        "print(\"log of given array 1\")\n",
        "print(np.log(x))\n",
        "print(\"************************************\")\n",
        "print(\"exponent of given array 1\")\n",
        "print(np.exp(y))"
      ],
      "metadata": {
        "colab": {
          "base_uri": "https://localhost:8080/"
        },
        "id": "resz_Jbfxl2l",
        "outputId": "571b76d9-7e0d-4c31-ddef-2cbb8ff4125c"
      },
      "execution_count": 82,
      "outputs": [
        {
          "output_type": "stream",
          "name": "stdout",
          "text": [
            "log of given array 1\n",
            "[[      -inf 0.         0.69314718 1.09861229]\n",
            " [1.38629436 1.60943791 1.79175947 1.94591015]\n",
            " [2.07944154 2.19722458 2.30258509 2.39789527]]\n",
            "************************************\n",
            "exponent of given array 1\n",
            "[[1.62754791e+05 4.42413392e+05 1.20260428e+06]\n",
            " [3.26901737e+06 8.88611052e+06 2.41549528e+07]\n",
            " [6.56599691e+07 1.78482301e+08 4.85165195e+08]\n",
            " [1.31881573e+09 3.58491285e+09 9.74480345e+09]]\n"
          ]
        },
        {
          "output_type": "stream",
          "name": "stderr",
          "text": [
            "<ipython-input-82-ed2f6f8b6c18>:3: RuntimeWarning: divide by zero encountered in log\n",
            "  print(np.log(x))\n"
          ]
        }
      ]
    },
    {
      "cell_type": "markdown",
      "source": [
        "### **1. np.round, 2. np.ceil, 3. np.floor**"
      ],
      "metadata": {
        "id": "U6DdpSp4z4xN"
      }
    },
    {
      "cell_type": "code",
      "source": [
        "z = np.random.random((2,3))*100"
      ],
      "metadata": {
        "id": "TZKdq9hHx2Gb"
      },
      "execution_count": 83,
      "outputs": []
    },
    {
      "cell_type": "code",
      "source": [
        "z"
      ],
      "metadata": {
        "colab": {
          "base_uri": "https://localhost:8080/"
        },
        "id": "nVOKeQg4x-G4",
        "outputId": "256133ea-f918-4506-db2c-3ce8c2b7b63b"
      },
      "execution_count": 84,
      "outputs": [
        {
          "output_type": "execute_result",
          "data": {
            "text/plain": [
              "array([[87.73615691,  4.25439606, 30.13450783],\n",
              "       [16.62959966, 64.58925301, 15.32261431]])"
            ]
          },
          "metadata": {},
          "execution_count": 84
        }
      ]
    },
    {
      "cell_type": "code",
      "source": [
        "# np.round\n",
        "\n",
        "np.round(z)"
      ],
      "metadata": {
        "colab": {
          "base_uri": "https://localhost:8080/"
        },
        "id": "UcdokBWVx_VV",
        "outputId": "8787443e-3c15-4294-8a4e-1f727b9a6841"
      },
      "execution_count": 85,
      "outputs": [
        {
          "output_type": "execute_result",
          "data": {
            "text/plain": [
              "array([[88.,  4., 30.],\n",
              "       [17., 65., 15.]])"
            ]
          },
          "metadata": {},
          "execution_count": 85
        }
      ]
    },
    {
      "cell_type": "code",
      "source": [
        "# np.ceil\n",
        "\n",
        "np.ceil(z)"
      ],
      "metadata": {
        "colab": {
          "base_uri": "https://localhost:8080/"
        },
        "id": "Y11BuCUVyBWy",
        "outputId": "cca57b3e-440e-4973-c513-9297dec4cef8"
      },
      "execution_count": 86,
      "outputs": [
        {
          "output_type": "execute_result",
          "data": {
            "text/plain": [
              "array([[88.,  5., 31.],\n",
              "       [17., 65., 16.]])"
            ]
          },
          "metadata": {},
          "execution_count": 86
        }
      ]
    },
    {
      "cell_type": "code",
      "source": [
        "# np.floor\n",
        "\n",
        "np.floor(z)"
      ],
      "metadata": {
        "colab": {
          "base_uri": "https://localhost:8080/"
        },
        "id": "a-eOPGjdyMPY",
        "outputId": "6341ea0d-3a28-4968-e385-fbf98b1fb13a"
      },
      "execution_count": 87,
      "outputs": [
        {
          "output_type": "execute_result",
          "data": {
            "text/plain": [
              "array([[87.,  4., 30.],\n",
              "       [16., 64., 15.]])"
            ]
          },
          "metadata": {},
          "execution_count": 87
        }
      ]
    },
    {
      "cell_type": "markdown",
      "source": [
        "### **Array Manipulation**"
      ],
      "metadata": {
        "id": "Zx7YpDFU3ik1"
      }
    },
    {
      "cell_type": "code",
      "source": [
        "# 1. reshaping np.reshape()\n",
        "'''Reshapes the array\n",
        "Can use -ve index in reshape'''\n",
        "\n",
        "\n",
        "k = np.array([0,1,2,3,4,5,6,7])\n",
        "f = k.reshape(2,4)\n",
        "print(f)\n",
        "print()\n",
        "print(k[::-1].reshape(2,4))"
      ],
      "metadata": {
        "colab": {
          "base_uri": "https://localhost:8080/"
        },
        "id": "gEBoCry43lw0",
        "outputId": "8f2d59ef-6820-4d96-8ae2-b025e9f98626"
      },
      "execution_count": 291,
      "outputs": [
        {
          "output_type": "stream",
          "name": "stdout",
          "text": [
            "[[0 1 2 3]\n",
            " [4 5 6 7]]\n",
            "\n",
            "[[7 6 5 4]\n",
            " [3 2 1 0]]\n"
          ]
        }
      ]
    },
    {
      "cell_type": "code",
      "source": [
        "print(k.reshape(2,-1))\n",
        "'''\n",
        "`k.reshape(2, -1)` reshapes the array `k` into a 2x4 array.\n",
        "The `-1` acts as a placeholder, letting NumPy automatically calculate the size of the dimension.\n",
        "Since `k` has 8 elements and we want 2 rows, NumPy calculates that we need 4 columns.The output is the same as before:'''"
      ],
      "metadata": {
        "colab": {
          "base_uri": "https://localhost:8080/",
          "height": 89
        },
        "id": "r6mVQNsV4DXn",
        "outputId": "10f4edbf-074a-43ff-b1d1-a57a48d023a2"
      },
      "execution_count": 289,
      "outputs": [
        {
          "output_type": "stream",
          "name": "stdout",
          "text": [
            "[[0 1 2 3]\n",
            " [4 5 6 7]]\n"
          ]
        },
        {
          "output_type": "execute_result",
          "data": {
            "text/plain": [
              "'\\n`k.reshape(2, -1)` reshapes the array `k` into a 2x4 array.\\nThe `-1` acts as a placeholder, letting NumPy automatically calculate the size of the dimension.\\nSince `k` has 8 elements and we want 2 rows, NumPy calculates that we need 4 columns.The output is the same as before:'"
            ],
            "application/vnd.google.colaboratory.intrinsic+json": {
              "type": "string"
            }
          },
          "metadata": {},
          "execution_count": 289
        }
      ]
    },
    {
      "cell_type": "code",
      "source": [
        "# 2. Flattening np.flatten()\n",
        "\n",
        "f = k.reshape(2,4)\n",
        "print(f)\n",
        "print()\n",
        "print(f.flatten()) #Returns a flattened array i.e. 1D array. Returns copy of array\n"
      ],
      "metadata": {
        "colab": {
          "base_uri": "https://localhost:8080/"
        },
        "id": "GpxYrQQZ5aBH",
        "outputId": "ea31620e-8d81-483c-f02c-03a9b052a8aa"
      },
      "execution_count": 298,
      "outputs": [
        {
          "output_type": "stream",
          "name": "stdout",
          "text": [
            "[[0 1 2 3]\n",
            " [4 5 6 7]]\n",
            "\n",
            "[0 1 2 3 4 5 6 7]\n"
          ]
        }
      ]
    },
    {
      "cell_type": "code",
      "source": [
        "# 3. np.ravel()\n",
        "\n",
        "f = k.reshape(2,4)\n",
        "print(f)\n",
        "print()\n",
        "print(f.ravel()) # Returns a flattened array. Returns view of array"
      ],
      "metadata": {
        "colab": {
          "base_uri": "https://localhost:8080/"
        },
        "id": "cIa33Fv75_O1",
        "outputId": "b1fcae2b-84a1-431b-8c16-5226546f6b1a"
      },
      "execution_count": 299,
      "outputs": [
        {
          "output_type": "stream",
          "name": "stdout",
          "text": [
            "[[0 1 2 3]\n",
            " [4 5 6 7]]\n",
            "\n",
            "[0 1 2 3 4 5 6 7]\n"
          ]
        }
      ]
    },
    {
      "cell_type": "code",
      "source": [
        "# 4. Transposes the array np.transpose(array)\n",
        "\n",
        "print(f)\n",
        "print()\n",
        "np.transpose(f)"
      ],
      "metadata": {
        "colab": {
          "base_uri": "https://localhost:8080/"
        },
        "id": "aE5_HSd66TBb",
        "outputId": "c44361fe-7b91-4316-c173-1602f6b59ca0"
      },
      "execution_count": 301,
      "outputs": [
        {
          "output_type": "stream",
          "name": "stdout",
          "text": [
            "[[0 1 2 3]\n",
            " [4 5 6 7]]\n",
            "\n"
          ]
        },
        {
          "output_type": "execute_result",
          "data": {
            "text/plain": [
              "array([[0, 4],\n",
              "       [1, 5],\n",
              "       [2, 6],\n",
              "       [3, 7]])"
            ]
          },
          "metadata": {},
          "execution_count": 301
        }
      ]
    },
    {
      "cell_type": "markdown",
      "source": [
        "### **Sorting**\n",
        "\n",
        "1. array.sort() : Sorts original array. Doesn’t return anything\n",
        "\n",
        "2. np.sort(array) : Returns sorted array. Doesn’t make changes to original array\n",
        "\n",
        "3. np.sort(array, axis = 0) : Sorts array row wise i.e. along the vertical axis\n",
        "\n",
        "4. np.sort(array, axis = 0): Sorts array along the horizontal axis i.e. column wise\n"
      ],
      "metadata": {
        "id": "UcH4pvZk6maj"
      }
    },
    {
      "cell_type": "code",
      "source": [
        "# 1. array.sort()\n",
        "\n",
        "s = np.array([[4,0,2,4,52,3],\n",
        "              [3,4,2,3,3,43]])\n",
        "\n",
        "s.sort()"
      ],
      "metadata": {
        "id": "raYeyvxm6l_L"
      },
      "execution_count": 304,
      "outputs": []
    },
    {
      "cell_type": "code",
      "source": [
        "# 2. np.sort(array)\n",
        "\n",
        "j = np.array([[4,0,2,4,52,3],\n",
        "              [3,4,2,9,3,43]])\n",
        "\n",
        "np.sort(j)"
      ],
      "metadata": {
        "colab": {
          "base_uri": "https://localhost:8080/"
        },
        "id": "wMSKR3Gc7lzL",
        "outputId": "739cc222-bca7-4817-bcf0-4578b6cf2477"
      },
      "execution_count": 306,
      "outputs": [
        {
          "output_type": "execute_result",
          "data": {
            "text/plain": [
              "array([[ 0,  2,  3,  4,  4, 52],\n",
              "       [ 2,  3,  3,  4,  9, 43]])"
            ]
          },
          "metadata": {},
          "execution_count": 306
        }
      ]
    },
    {
      "cell_type": "code",
      "source": [
        "# 3. np.sort(array, axis = 0)\n",
        "\n",
        "j = np.array([[4,0,2,4,52,3],\n",
        "              [3,4,2,9,3,43]])\n",
        "np.sort(j, axis = 0)"
      ],
      "metadata": {
        "colab": {
          "base_uri": "https://localhost:8080/"
        },
        "id": "uAAubH1Y7xQC",
        "outputId": "a90395b9-817d-4236-d43d-431ba986efd1"
      },
      "execution_count": 307,
      "outputs": [
        {
          "output_type": "execute_result",
          "data": {
            "text/plain": [
              "array([[ 3,  0,  2,  4,  3,  3],\n",
              "       [ 4,  4,  2,  9, 52, 43]])"
            ]
          },
          "metadata": {},
          "execution_count": 307
        }
      ]
    },
    {
      "cell_type": "code",
      "source": [
        "# 4. np.sort(array, axis = 1)\n",
        "\n",
        "j = np.array([[4,0,2,4,52,3],\n",
        "              [3,4,2,9,3,43]])\n",
        "\n",
        "np.sort(j, axis = 1)"
      ],
      "metadata": {
        "colab": {
          "base_uri": "https://localhost:8080/"
        },
        "id": "VQNx9Ps67-p4",
        "outputId": "08948eb2-650e-4483-c7a1-16ed821c37f9"
      },
      "execution_count": 308,
      "outputs": [
        {
          "output_type": "execute_result",
          "data": {
            "text/plain": [
              "array([[ 0,  2,  3,  4,  4, 52],\n",
              "       [ 2,  3,  3,  4,  9, 43]])"
            ]
          },
          "metadata": {},
          "execution_count": 308
        }
      ]
    },
    {
      "cell_type": "markdown",
      "source": [
        "### **Argument based function**\n",
        "\n",
        "1. np.argwhere(array) : Get indices of non zero elements\n",
        "\n",
        "2. np.argmin(array) : Get indices of minimum value.\n",
        "\n",
        "3. np.argmax(array) : Get indices of maximum value.\n",
        "\n",
        "4. np.argsort(arr) : Returns indices that would sort the array"
      ],
      "metadata": {
        "id": "7nACvg-X82wA"
      }
    },
    {
      "cell_type": "code",
      "source": [
        "A = np.array([[43,56,2,4],\n",
        "           [3,4,32,63],\n",
        "           [9,38,30,84]])\n",
        "\n",
        "print(A)"
      ],
      "metadata": {
        "colab": {
          "base_uri": "https://localhost:8080/"
        },
        "id": "N9BJM2UN8431",
        "outputId": "bd70bf70-b664-4c28-bb3c-ba85059dc8fd"
      },
      "execution_count": 311,
      "outputs": [
        {
          "output_type": "stream",
          "name": "stdout",
          "text": [
            "[[43 56  2  4]\n",
            " [ 3  4 32 63]\n",
            " [ 9 38 30 84]]\n"
          ]
        }
      ]
    },
    {
      "cell_type": "code",
      "source": [
        "# 1. np.argwhere(array) : Get indices of non zero elements\n",
        "\n",
        "np.argwhere(A)"
      ],
      "metadata": {
        "colab": {
          "base_uri": "https://localhost:8080/"
        },
        "id": "nDVyi9rE9moB",
        "outputId": "bc47ad83-fd94-4229-914f-688c8e88a643"
      },
      "execution_count": 312,
      "outputs": [
        {
          "output_type": "execute_result",
          "data": {
            "text/plain": [
              "array([[0, 0],\n",
              "       [0, 1],\n",
              "       [0, 2],\n",
              "       [0, 3],\n",
              "       [1, 0],\n",
              "       [1, 1],\n",
              "       [1, 2],\n",
              "       [1, 3],\n",
              "       [2, 0],\n",
              "       [2, 1],\n",
              "       [2, 2],\n",
              "       [2, 3]])"
            ]
          },
          "metadata": {},
          "execution_count": 312
        }
      ]
    },
    {
      "cell_type": "code",
      "source": [
        "# 2. np.argmin(array) : Get indices of minimum value.\n",
        "\n",
        "np.argmin(A)"
      ],
      "metadata": {
        "colab": {
          "base_uri": "https://localhost:8080/"
        },
        "id": "pi5SE_kW99Z3",
        "outputId": "553a6ec7-f43c-4325-b000-f95fa7c3c3ad"
      },
      "execution_count": 313,
      "outputs": [
        {
          "output_type": "execute_result",
          "data": {
            "text/plain": [
              "2"
            ]
          },
          "metadata": {},
          "execution_count": 313
        }
      ]
    },
    {
      "cell_type": "code",
      "source": [
        "# 3. np.argmax(array) : Get indices of maximum value.\n",
        "\n",
        "np.argmax(A)"
      ],
      "metadata": {
        "colab": {
          "base_uri": "https://localhost:8080/"
        },
        "id": "EzT1Z2ka-Mlt",
        "outputId": "580959ef-0ce6-469b-a05e-5cf560ac084a"
      },
      "execution_count": 314,
      "outputs": [
        {
          "output_type": "execute_result",
          "data": {
            "text/plain": [
              "11"
            ]
          },
          "metadata": {},
          "execution_count": 314
        }
      ]
    },
    {
      "cell_type": "code",
      "source": [
        "# 4. np.argsort(arr) : Returns indices that would sort the array\n",
        "\n",
        "print(A)\n",
        "print()\n",
        "print(np.sort(A))\n",
        "print()\n",
        "print(np.argsort(A))"
      ],
      "metadata": {
        "colab": {
          "base_uri": "https://localhost:8080/"
        },
        "id": "lfZLbBVt-VYt",
        "outputId": "7b5ec79d-2174-4e17-bc6c-59a73777923c"
      },
      "execution_count": 319,
      "outputs": [
        {
          "output_type": "stream",
          "name": "stdout",
          "text": [
            "[[43 56  2  4]\n",
            " [ 3  4 32 63]\n",
            " [ 9 38 30 84]]\n",
            "\n",
            "[[ 2  4 43 56]\n",
            " [ 3  4 32 63]\n",
            " [ 9 30 38 84]]\n",
            "\n",
            "[[2 3 0 1]\n",
            " [0 1 2 3]\n",
            " [0 2 1 3]]\n"
          ]
        }
      ]
    },
    {
      "cell_type": "markdown",
      "source": [
        "## **Indexing**"
      ],
      "metadata": {
        "id": "oKb6Mjg_yawO"
      }
    },
    {
      "cell_type": "code",
      "source": [
        "a1=np.arange(1,10)\n",
        "a2=np.arange(12).reshape(3,4)\n",
        "a3=np.arange(8).reshape(2,2,2)\n",
        "a4 = np.arange(36).reshape(3,3,4)\n",
        "print(a1)\n",
        "print(\"*\"*30)\n",
        "print(a2)\n",
        "print(\"*\"*30)\n",
        "print(a3)\n",
        "print(\"*\"*30)\n",
        "print(a4)\n"
      ],
      "metadata": {
        "colab": {
          "base_uri": "https://localhost:8080/"
        },
        "id": "pU7aNY-gySDj",
        "outputId": "e26ec70c-6610-4068-d82f-c577cf5789c4"
      },
      "execution_count": 88,
      "outputs": [
        {
          "output_type": "stream",
          "name": "stdout",
          "text": [
            "[1 2 3 4 5 6 7 8 9]\n",
            "******************************\n",
            "[[ 0  1  2  3]\n",
            " [ 4  5  6  7]\n",
            " [ 8  9 10 11]]\n",
            "******************************\n",
            "[[[0 1]\n",
            "  [2 3]]\n",
            "\n",
            " [[4 5]\n",
            "  [6 7]]]\n",
            "******************************\n",
            "[[[ 0  1  2  3]\n",
            "  [ 4  5  6  7]\n",
            "  [ 8  9 10 11]]\n",
            "\n",
            " [[12 13 14 15]\n",
            "  [16 17 18 19]\n",
            "  [20 21 22 23]]\n",
            "\n",
            " [[24 25 26 27]\n",
            "  [28 29 30 31]\n",
            "  [32 33 34 35]]]\n"
          ]
        }
      ]
    },
    {
      "cell_type": "code",
      "source": [
        "a1[0]"
      ],
      "metadata": {
        "colab": {
          "base_uri": "https://localhost:8080/"
        },
        "id": "wqdIf1-Jyrg5",
        "outputId": "df0b9f54-2b57-44c9-be3e-511856f726ae"
      },
      "execution_count": 89,
      "outputs": [
        {
          "output_type": "execute_result",
          "data": {
            "text/plain": [
              "1"
            ]
          },
          "metadata": {},
          "execution_count": 89
        }
      ]
    },
    {
      "cell_type": "code",
      "source": [
        "a1[6]"
      ],
      "metadata": {
        "colab": {
          "base_uri": "https://localhost:8080/"
        },
        "id": "WvAHuGhKy3X3",
        "outputId": "e11efd46-3f66-442a-e1fa-16c9b3d855fe"
      },
      "execution_count": 90,
      "outputs": [
        {
          "output_type": "execute_result",
          "data": {
            "text/plain": [
              "7"
            ]
          },
          "metadata": {},
          "execution_count": 90
        }
      ]
    },
    {
      "cell_type": "code",
      "source": [
        "a2"
      ],
      "metadata": {
        "colab": {
          "base_uri": "https://localhost:8080/"
        },
        "id": "wUYHZG_BzDJO",
        "outputId": "daf8cda9-17e3-4cf7-9dde-506fff645498"
      },
      "execution_count": 91,
      "outputs": [
        {
          "output_type": "execute_result",
          "data": {
            "text/plain": [
              "array([[ 0,  1,  2,  3],\n",
              "       [ 4,  5,  6,  7],\n",
              "       [ 8,  9, 10, 11]])"
            ]
          },
          "metadata": {},
          "execution_count": 91
        }
      ]
    },
    {
      "cell_type": "code",
      "source": [
        "#print 2nd row\n",
        "a2[1]"
      ],
      "metadata": {
        "colab": {
          "base_uri": "https://localhost:8080/"
        },
        "id": "YZBBkYRTzAHE",
        "outputId": "66ced3df-41b4-4f55-96ed-98b25e2d5280"
      },
      "execution_count": 92,
      "outputs": [
        {
          "output_type": "execute_result",
          "data": {
            "text/plain": [
              "array([4, 5, 6, 7])"
            ]
          },
          "metadata": {},
          "execution_count": 92
        }
      ]
    },
    {
      "cell_type": "code",
      "source": [
        "# print element 7\n",
        "\n",
        "a2[1,3]"
      ],
      "metadata": {
        "colab": {
          "base_uri": "https://localhost:8080/"
        },
        "id": "9_PkVbmtzFsd",
        "outputId": "b2ea2910-1974-4afc-ec3f-7bced89368a0"
      },
      "execution_count": 93,
      "outputs": [
        {
          "output_type": "execute_result",
          "data": {
            "text/plain": [
              "7"
            ]
          },
          "metadata": {},
          "execution_count": 93
        }
      ]
    },
    {
      "cell_type": "code",
      "source": [
        "#print element 10\n",
        "\n",
        "a2[2,2]"
      ],
      "metadata": {
        "colab": {
          "base_uri": "https://localhost:8080/"
        },
        "id": "SFWNEwa-zST5",
        "outputId": "0b411cf5-db6d-4294-c525-d9f1a175eb17"
      },
      "execution_count": 94,
      "outputs": [
        {
          "output_type": "execute_result",
          "data": {
            "text/plain": [
              "10"
            ]
          },
          "metadata": {},
          "execution_count": 94
        }
      ]
    },
    {
      "cell_type": "code",
      "source": [
        "a3"
      ],
      "metadata": {
        "colab": {
          "base_uri": "https://localhost:8080/"
        },
        "id": "IW1zXnEwzaTP",
        "outputId": "3c3c57b6-fab2-4d24-b636-8c213b94fbf6"
      },
      "execution_count": 95,
      "outputs": [
        {
          "output_type": "execute_result",
          "data": {
            "text/plain": [
              "array([[[0, 1],\n",
              "        [2, 3]],\n",
              "\n",
              "       [[4, 5],\n",
              "        [6, 7]]])"
            ]
          },
          "metadata": {},
          "execution_count": 95
        }
      ]
    },
    {
      "cell_type": "code",
      "source": [
        "# print row [4,5]\n",
        "\n",
        "a3[1,0]"
      ],
      "metadata": {
        "colab": {
          "base_uri": "https://localhost:8080/"
        },
        "id": "i9fD-ZtjzbVp",
        "outputId": "b30eee7f-0d53-44a6-b16a-2b28d5472954"
      },
      "execution_count": 96,
      "outputs": [
        {
          "output_type": "execute_result",
          "data": {
            "text/plain": [
              "array([4, 5])"
            ]
          },
          "metadata": {},
          "execution_count": 96
        }
      ]
    },
    {
      "cell_type": "code",
      "source": [
        "# print element 6\n",
        "\n",
        "a3[1,1,0]"
      ],
      "metadata": {
        "colab": {
          "base_uri": "https://localhost:8080/"
        },
        "id": "H9C3RcwEzhXk",
        "outputId": "4b6ff039-5945-4286-8858-6f8b8b48301b"
      },
      "execution_count": 97,
      "outputs": [
        {
          "output_type": "execute_result",
          "data": {
            "text/plain": [
              "6"
            ]
          },
          "metadata": {},
          "execution_count": 97
        }
      ]
    },
    {
      "cell_type": "code",
      "source": [
        "a4"
      ],
      "metadata": {
        "colab": {
          "base_uri": "https://localhost:8080/"
        },
        "id": "4_aeO45O0FaE",
        "outputId": "24fa2514-5a33-4fda-ffee-a81b661184f5"
      },
      "execution_count": 98,
      "outputs": [
        {
          "output_type": "execute_result",
          "data": {
            "text/plain": [
              "array([[[ 0,  1,  2,  3],\n",
              "        [ 4,  5,  6,  7],\n",
              "        [ 8,  9, 10, 11]],\n",
              "\n",
              "       [[12, 13, 14, 15],\n",
              "        [16, 17, 18, 19],\n",
              "        [20, 21, 22, 23]],\n",
              "\n",
              "       [[24, 25, 26, 27],\n",
              "        [28, 29, 30, 31],\n",
              "        [32, 33, 34, 35]]])"
            ]
          },
          "metadata": {},
          "execution_count": 98
        }
      ]
    },
    {
      "cell_type": "code",
      "source": [
        "# print element 29\n",
        "\n",
        "a4[2,1,1]"
      ],
      "metadata": {
        "colab": {
          "base_uri": "https://localhost:8080/"
        },
        "id": "yY0HlXFc0G6r",
        "outputId": "62939eb1-0be2-432d-866a-2fd306b3d501"
      },
      "execution_count": 99,
      "outputs": [
        {
          "output_type": "execute_result",
          "data": {
            "text/plain": [
              "29"
            ]
          },
          "metadata": {},
          "execution_count": 99
        }
      ]
    },
    {
      "cell_type": "code",
      "source": [
        "# print element 9\n",
        "\n",
        "a4[0,2,1]"
      ],
      "metadata": {
        "colab": {
          "base_uri": "https://localhost:8080/"
        },
        "id": "Bpd61he70PNa",
        "outputId": "094e904f-ce3c-4d33-843c-0122781926a7"
      },
      "execution_count": 100,
      "outputs": [
        {
          "output_type": "execute_result",
          "data": {
            "text/plain": [
              "9"
            ]
          },
          "metadata": {},
          "execution_count": 100
        }
      ]
    },
    {
      "cell_type": "markdown",
      "source": [
        "### **Slicing**"
      ],
      "metadata": {
        "id": "bfmjjkUV0Yzc"
      }
    },
    {
      "cell_type": "code",
      "source": [
        "a1"
      ],
      "metadata": {
        "colab": {
          "base_uri": "https://localhost:8080/"
        },
        "id": "5zotFTpB0XA9",
        "outputId": "56ca6cf4-1965-40d7-f7fc-77fa2c1fe7ba"
      },
      "execution_count": 101,
      "outputs": [
        {
          "output_type": "execute_result",
          "data": {
            "text/plain": [
              "array([1, 2, 3, 4, 5, 6, 7, 8, 9])"
            ]
          },
          "metadata": {},
          "execution_count": 101
        }
      ]
    },
    {
      "cell_type": "code",
      "source": [
        "a1[0:7:3]"
      ],
      "metadata": {
        "colab": {
          "base_uri": "https://localhost:8080/"
        },
        "id": "PrCAbtG_0gIa",
        "outputId": "4312f3e5-d3fe-41b7-9920-109830456501"
      },
      "execution_count": 102,
      "outputs": [
        {
          "output_type": "execute_result",
          "data": {
            "text/plain": [
              "array([1, 4, 7])"
            ]
          },
          "metadata": {},
          "execution_count": 102
        }
      ]
    },
    {
      "cell_type": "code",
      "source": [
        "a2"
      ],
      "metadata": {
        "colab": {
          "base_uri": "https://localhost:8080/"
        },
        "id": "7TeBHlzp0ojS",
        "outputId": "ffeef84a-4947-4444-e428-841c8d71278a"
      },
      "execution_count": 103,
      "outputs": [
        {
          "output_type": "execute_result",
          "data": {
            "text/plain": [
              "array([[ 0,  1,  2,  3],\n",
              "       [ 4,  5,  6,  7],\n",
              "       [ 8,  9, 10, 11]])"
            ]
          },
          "metadata": {},
          "execution_count": 103
        }
      ]
    },
    {
      "cell_type": "code",
      "source": [
        "a2[:,0]"
      ],
      "metadata": {
        "colab": {
          "base_uri": "https://localhost:8080/"
        },
        "id": "aTw5OgZ-1D8I",
        "outputId": "d7451235-fa97-4126-9a41-113e1d3d8c32"
      },
      "execution_count": 104,
      "outputs": [
        {
          "output_type": "execute_result",
          "data": {
            "text/plain": [
              "array([0, 4, 8])"
            ]
          },
          "metadata": {},
          "execution_count": 104
        }
      ]
    },
    {
      "cell_type": "code",
      "source": [
        "a2[0,:]"
      ],
      "metadata": {
        "colab": {
          "base_uri": "https://localhost:8080/"
        },
        "id": "tsR2tpbc1Gzs",
        "outputId": "79767484-8165-4cb7-eebf-09ab7b53ade9"
      },
      "execution_count": 105,
      "outputs": [
        {
          "output_type": "execute_result",
          "data": {
            "text/plain": [
              "array([0, 1, 2, 3])"
            ]
          },
          "metadata": {},
          "execution_count": 105
        }
      ]
    },
    {
      "cell_type": "code",
      "source": [
        "a2[1,:]"
      ],
      "metadata": {
        "colab": {
          "base_uri": "https://localhost:8080/"
        },
        "id": "HVOL0e081NBY",
        "outputId": "9f0c40fb-33c7-4f74-fcaa-b9f08a7f896e"
      },
      "execution_count": 106,
      "outputs": [
        {
          "output_type": "execute_result",
          "data": {
            "text/plain": [
              "array([4, 5, 6, 7])"
            ]
          },
          "metadata": {},
          "execution_count": 106
        }
      ]
    },
    {
      "cell_type": "code",
      "source": [
        "a2[:,1]"
      ],
      "metadata": {
        "colab": {
          "base_uri": "https://localhost:8080/"
        },
        "id": "GTmeiZyD1S_e",
        "outputId": "ca0facba-c6f6-4da9-ab12-780a1d39f22d"
      },
      "execution_count": 107,
      "outputs": [
        {
          "output_type": "execute_result",
          "data": {
            "text/plain": [
              "array([1, 5, 9])"
            ]
          },
          "metadata": {},
          "execution_count": 107
        }
      ]
    },
    {
      "cell_type": "code",
      "source": [
        "a2[::-1,::-1]"
      ],
      "metadata": {
        "colab": {
          "base_uri": "https://localhost:8080/"
        },
        "id": "iHFSRt-r0r6U",
        "outputId": "2bc21982-ff4f-42b6-8e68-75ebcc5cd178"
      },
      "execution_count": 108,
      "outputs": [
        {
          "output_type": "execute_result",
          "data": {
            "text/plain": [
              "array([[11, 10,  9,  8],\n",
              "       [ 7,  6,  5,  4],\n",
              "       [ 3,  2,  1,  0]])"
            ]
          },
          "metadata": {},
          "execution_count": 108
        }
      ]
    },
    {
      "cell_type": "code",
      "source": [
        "a3"
      ],
      "metadata": {
        "colab": {
          "base_uri": "https://localhost:8080/"
        },
        "id": "gaHF2sRX0xgx",
        "outputId": "1a4dccad-c595-4186-e1da-97747ce1d2b1"
      },
      "execution_count": 109,
      "outputs": [
        {
          "output_type": "execute_result",
          "data": {
            "text/plain": [
              "array([[[0, 1],\n",
              "        [2, 3]],\n",
              "\n",
              "       [[4, 5],\n",
              "        [6, 7]]])"
            ]
          },
          "metadata": {},
          "execution_count": 109
        }
      ]
    },
    {
      "cell_type": "code",
      "source": [
        "a4"
      ],
      "metadata": {
        "colab": {
          "base_uri": "https://localhost:8080/"
        },
        "id": "qHm_hdJa1ksf",
        "outputId": "c1956128-9135-47ae-d7b4-e058f3ce3159"
      },
      "execution_count": 110,
      "outputs": [
        {
          "output_type": "execute_result",
          "data": {
            "text/plain": [
              "array([[[ 0,  1,  2,  3],\n",
              "        [ 4,  5,  6,  7],\n",
              "        [ 8,  9, 10, 11]],\n",
              "\n",
              "       [[12, 13, 14, 15],\n",
              "        [16, 17, 18, 19],\n",
              "        [20, 21, 22, 23]],\n",
              "\n",
              "       [[24, 25, 26, 27],\n",
              "        [28, 29, 30, 31],\n",
              "        [32, 33, 34, 35]]])"
            ]
          },
          "metadata": {},
          "execution_count": 110
        }
      ]
    },
    {
      "cell_type": "code",
      "source": [
        "# print matrix 13, 14\n",
        "            #  17, 18\n",
        "            #  21, 22\n",
        "\n",
        "a4[1:2, 0::, 1:3]"
      ],
      "metadata": {
        "colab": {
          "base_uri": "https://localhost:8080/"
        },
        "id": "YYJhVaIc153c",
        "outputId": "606ce1f3-c952-4e3b-9cfa-5181aa1fff5a"
      },
      "execution_count": 111,
      "outputs": [
        {
          "output_type": "execute_result",
          "data": {
            "text/plain": [
              "array([[[13, 14],\n",
              "        [17, 18],\n",
              "        [21, 22]]])"
            ]
          },
          "metadata": {},
          "execution_count": 111
        }
      ]
    },
    {
      "cell_type": "code",
      "source": [
        "b3=np.arange(36).reshape(4,3,3)\n",
        "b3"
      ],
      "metadata": {
        "colab": {
          "base_uri": "https://localhost:8080/"
        },
        "id": "o7UNtJBk2lOy",
        "outputId": "44a83475-06fb-4599-fc7c-14cd29a4cbc1"
      },
      "execution_count": 112,
      "outputs": [
        {
          "output_type": "execute_result",
          "data": {
            "text/plain": [
              "array([[[ 0,  1,  2],\n",
              "        [ 3,  4,  5],\n",
              "        [ 6,  7,  8]],\n",
              "\n",
              "       [[ 9, 10, 11],\n",
              "        [12, 13, 14],\n",
              "        [15, 16, 17]],\n",
              "\n",
              "       [[18, 19, 20],\n",
              "        [21, 22, 23],\n",
              "        [24, 25, 26]],\n",
              "\n",
              "       [[27, 28, 29],\n",
              "        [30, 31, 32],\n",
              "        [33, 34, 35]]])"
            ]
          },
          "metadata": {},
          "execution_count": 112
        }
      ]
    },
    {
      "cell_type": "code",
      "source": [
        "'''Q. print\n",
        "array(  [[0, 1, 2],\n",
        "        [3, 4, 5],\n",
        "        [6, 7, 8]]])\n",
        "\n",
        "       [[27, 28, 29],\n",
        "        [30, 31, 32],\n",
        "        [33, 34, 35]]])\n",
        "'''\n",
        "\n",
        "b3[0::3]"
      ],
      "metadata": {
        "colab": {
          "base_uri": "https://localhost:8080/"
        },
        "id": "u2Q4mseK2nak",
        "outputId": "d6376332-22fc-4c95-829a-174fd65ed5de"
      },
      "execution_count": 113,
      "outputs": [
        {
          "output_type": "execute_result",
          "data": {
            "text/plain": [
              "array([[[ 0,  1,  2],\n",
              "        [ 3,  4,  5],\n",
              "        [ 6,  7,  8]],\n",
              "\n",
              "       [[27, 28, 29],\n",
              "        [30, 31, 32],\n",
              "        [33, 34, 35]]])"
            ]
          },
          "metadata": {},
          "execution_count": 113
        }
      ]
    },
    {
      "cell_type": "markdown",
      "source": [
        "Fancy indexing in NumPy refers to using arrays or lists of indices to access or modify elements of an array. It allows you to access multiple elements from an array at once, even in non-contiguous or irregular patterns.\n",
        "\n",
        "Here's a short explanation with code:\n",
        "\n",
        "```python\n",
        "import numpy as np\n",
        "\n",
        "# Create a sample array\n",
        "arr = np.array([10, 20, 30, 40, 50])\n",
        "\n",
        "# Using fancy indexing to access specific elements\n",
        "indices = [0, 2, 4]  # List of indices\n",
        "selected_elements = arr[indices]\n",
        "\n",
        "print(selected_elements)  # Output: [10 30 50]\n",
        "```\n",
        "\n",
        "In this example, `indices` contains a list of indices `[0, 2, 4]`. Using these indices, we can access the corresponding elements from the array `arr`. This is an example of fancy indexing, where we are selecting specific elements from the array based on a list of indices.\n",
        "\n",
        "Fancy indexing can also be used for assigning values:\n",
        "\n",
        "```python\n",
        "# Assigning values using fancy indexing\n",
        "arr[indices] = 0  # Assign 0 to elements at indices [0, 2, 4]\n",
        "print(arr)  # Output: [ 0 20  0 40  0]\n",
        "```\n",
        "\n",
        "This code sets the elements at indices `[0, 2, 4]` to 0 in the array `arr`."
      ],
      "metadata": {
        "id": "leh_DVw2_3jb"
      }
    },
    {
      "cell_type": "code",
      "source": [
        "import numpy as np\n",
        "\n",
        "# Create a sample array\n",
        "arr = np.array([10, 20, 30, 40, 50])\n",
        "\n",
        "# Using fancy indexing to access specific elements\n",
        "indices = [0, 2, 4]  # List of indices\n",
        "print(indices)\n",
        "selected_elements = arr[indices]\n",
        "\n",
        "print(selected_elements)  # Output: [10 30 50]"
      ],
      "metadata": {
        "colab": {
          "base_uri": "https://localhost:8080/"
        },
        "id": "TkNO-mbz_5yb",
        "outputId": "99157732-6fbe-44b7-abbc-fd65a4ef8b78"
      },
      "execution_count": 52,
      "outputs": [
        {
          "output_type": "stream",
          "name": "stdout",
          "text": [
            "[0, 2, 4]\n",
            "[10 30 50]\n"
          ]
        }
      ]
    },
    {
      "cell_type": "code",
      "source": [
        "arr"
      ],
      "metadata": {
        "colab": {
          "base_uri": "https://localhost:8080/"
        },
        "id": "DE7f0OSfAJkL",
        "outputId": "7f21a898-8743-496d-8552-3956cf5d66d8"
      },
      "execution_count": 53,
      "outputs": [
        {
          "output_type": "execute_result",
          "data": {
            "text/plain": [
              "array([10, 20, 30, 40, 50])"
            ]
          },
          "metadata": {},
          "execution_count": 53
        }
      ]
    },
    {
      "cell_type": "code",
      "source": [
        "# Assigning values using fancy indexing\n",
        "arr[indices] = 0  # Assign 0 to elements at indices [0, 2, 4]\n",
        "print(arr)  # Output: [ 0 20  0 40  0]"
      ],
      "metadata": {
        "colab": {
          "base_uri": "https://localhost:8080/"
        },
        "id": "VN7L9U5oAEoV",
        "outputId": "b88f95e7-a867-49b7-99fd-34ca1e7e3cae"
      },
      "execution_count": 54,
      "outputs": [
        {
          "output_type": "stream",
          "name": "stdout",
          "text": [
            "[ 0 20  0 40  0]\n"
          ]
        }
      ]
    },
    {
      "cell_type": "markdown",
      "source": [
        "### **Masking**"
      ],
      "metadata": {
        "id": "zJmfNI_grNvq"
      }
    },
    {
      "cell_type": "code",
      "source": [
        "print(a1)\n",
        "print()\n",
        "print(a2)\n",
        "print()\n",
        "print(a3)\n",
        "print()\n",
        "print(a4)"
      ],
      "metadata": {
        "colab": {
          "base_uri": "https://localhost:8080/"
        },
        "id": "kTYqgfN-rPXM",
        "outputId": "24e6747e-20c7-4fab-8b81-d64be9d6aeb2"
      },
      "execution_count": 202,
      "outputs": [
        {
          "output_type": "stream",
          "name": "stdout",
          "text": [
            "[1 2 3 4 5 6 7 8 9]\n",
            "\n",
            "[[ 0  1  2  3]\n",
            " [ 4  5  6  7]\n",
            " [ 8  9 10 11]]\n",
            "\n",
            "[[[0 1]\n",
            "  [2 3]]\n",
            "\n",
            " [[4 5]\n",
            "  [6 7]]]\n",
            "\n",
            "[[[ 0  1  2  3]\n",
            "  [ 4  5  6  7]\n",
            "  [ 8  9 10 11]]\n",
            "\n",
            " [[12 13 14 15]\n",
            "  [16 17 18 19]\n",
            "  [20 21 22 23]]\n",
            "\n",
            " [[24 25 26 27]\n",
            "  [28 29 30 31]\n",
            "  [32 33 34 35]]]\n"
          ]
        }
      ]
    },
    {
      "cell_type": "code",
      "source": [
        "print(a1 > 4)\n",
        "print()\n",
        "print(a1[a1 > 4]) # Masking"
      ],
      "metadata": {
        "colab": {
          "base_uri": "https://localhost:8080/"
        },
        "id": "qTzs8pSOrNaY",
        "outputId": "8dd42393-cb32-4c80-b810-1ee3c71eea79"
      },
      "execution_count": 206,
      "outputs": [
        {
          "output_type": "stream",
          "name": "stdout",
          "text": [
            "[False False False False  True  True  True  True  True]\n",
            "[5 6 7 8 9]\n"
          ]
        }
      ]
    },
    {
      "cell_type": "code",
      "source": [
        "print((a1 > 4) & (a1 <= 6))\n",
        "print()\n",
        "print(a1[(a1 > 4) & (a1 <= 6)]) # Masking"
      ],
      "metadata": {
        "colab": {
          "base_uri": "https://localhost:8080/"
        },
        "id": "H5Dqdan4rxoq",
        "outputId": "bf18a12d-fefc-46c4-cca0-4102adda7594"
      },
      "execution_count": 215,
      "outputs": [
        {
          "output_type": "stream",
          "name": "stdout",
          "text": [
            "[False False False False  True  True False False False]\n",
            "\n",
            "[5 6]\n"
          ]
        }
      ]
    },
    {
      "cell_type": "code",
      "source": [
        "print((a4 > 4) & (a4 <= 22))\n",
        "print()\n",
        "print(a4[(a4 > 4) & (a4 <= 22)]) # Masking"
      ],
      "metadata": {
        "colab": {
          "base_uri": "https://localhost:8080/"
        },
        "id": "mkxuCAhQs2tY",
        "outputId": "b547d281-02f7-4d89-f48a-777e493f5a5f"
      },
      "execution_count": 219,
      "outputs": [
        {
          "output_type": "stream",
          "name": "stdout",
          "text": [
            "[[[False False False False]\n",
            "  [False  True  True  True]\n",
            "  [ True  True  True  True]]\n",
            "\n",
            " [[ True  True  True  True]\n",
            "  [ True  True  True  True]\n",
            "  [ True  True  True False]]\n",
            "\n",
            " [[False False False False]\n",
            "  [False False False False]\n",
            "  [False False False False]]]\n",
            "\n",
            "[ 5  6  7  8  9 10 11 12 13 14 15 16 17 18 19 20 21 22]\n"
          ]
        }
      ]
    },
    {
      "cell_type": "markdown",
      "source": [
        "### **Adding/Removing Elements**\n",
        "\n",
        "### **1.np.append**\n",
        "Eg : np.append(h,g) :\n",
        "The `np.append(h, g)` function in NumPy is used to append elements of array `g` to the end of array `h`. It returns a new array containing the combined elements of both arrays.\n",
        "\n",
        "\n",
        "### **2.np.insert()**\n",
        "Eg : np.insert(a, 1, 5) :\n",
        "`np.insert(a, 1, 5)` inserts a value (5 in this case) into array `a` at a specified index position (1 in this case), shifting the existing elements to the right. This function returns a new array with the inserted value.\n",
        "\n",
        "### **3.np.delete()**\n",
        "Eg : np.delete(a,[1]) :\n",
        "`np.delete(a, [1])` removes elements at the specified indices from the input array `a`. It returns a new array with the elements removed. The original array `a` remains unchanged."
      ],
      "metadata": {
        "id": "31-MGFN6AWbW"
      }
    },
    {
      "cell_type": "code",
      "source": [
        "# 1. np.append(array1,array2) : Append items to an array\n",
        "\n",
        "import numpy as np\n",
        "\n",
        "# Creating two sample arrays\n",
        "h = np.array([1, 2, 3])\n",
        "g = np.array([4, 5, 6])\n",
        "\n",
        "# Appending elements of array 'g' to the end of array 'h'\n",
        "result = np.append(h, g)\n",
        "\n",
        "print(\"Result:\", result)  # Output: [1 2 3 4 5 6]\n"
      ],
      "metadata": {
        "colab": {
          "base_uri": "https://localhost:8080/"
        },
        "id": "q2bFKW69Af_0",
        "outputId": "850afece-2748-448e-b984-d38afb85b6bc"
      },
      "execution_count": 55,
      "outputs": [
        {
          "output_type": "stream",
          "name": "stdout",
          "text": [
            "Result: [1 2 3 4 5 6]\n"
          ]
        }
      ]
    },
    {
      "cell_type": "code",
      "source": [
        "# 2. np.insert()\n",
        "import numpy as np\n",
        "\n",
        "# Create a sample array\n",
        "a = np.array([1, 2, 3, 4, 5])\n",
        "\n",
        "# Insert value 5 at index position 1\n",
        "new_array = np.insert(a, 1, 5)\n",
        "\n",
        "print(new_array)  # Output: [1 5 2 3 4 5]\n"
      ],
      "metadata": {
        "id": "Wz_hs0ugCCfw"
      },
      "execution_count": null,
      "outputs": []
    },
    {
      "cell_type": "code",
      "source": [
        "# 3. np.delete()\n",
        "\n",
        "import numpy as np\n",
        "\n",
        "# Create a sample array\n",
        "a = np.array([1, 2, 3, 4, 5])\n",
        "\n",
        "# Remove the element at index 1\n",
        "result = np.delete(a, [1])\n",
        "\n",
        "print(\"Original array:\", a)  # Output: Original array: [1 2 3 4 5]\n",
        "print(\"Array after deletion:\", result)  # Output: Array after deletion: [1 3 4 5]\n"
      ],
      "metadata": {
        "id": "gh32swqvBjJK"
      },
      "execution_count": null,
      "outputs": []
    },
    {
      "cell_type": "markdown",
      "source": [
        "### **Stacking**\n",
        "\n",
        "### **np.hstack:**\n",
        "numpy.hstack(tup, *, dtype=None, casting='same_kind')[source]\n",
        "Stack arrays in sequence horizontally (column wise).\n",
        "\n",
        "This is equivalent to concatenation along the second axis, except for 1-D arrays where it concatenates along the first axis. Rebuilds arrays divided by hsplit.\n",
        "\n",
        "This function makes most sense for arrays with up to 3 dimensions. For instance, for pixel-data with a height (first axis), width (second axis), and r/g/b channels (third axis). The functions concatenate, stack and block provide more general stacking and concatenation operations.\n",
        "\n",
        "Parameters:\n",
        "tupsequence of ndarrays\n",
        "\n",
        "The arrays must have the same shape along all but the second axis, except 1-D arrays which can be any length.\n",
        "\n",
        "dtypestr or dtype\n",
        "\n",
        "If provided, the destination array will have this dtype. Cannot be provided together with out.\n",
        "\n",
        "\n",
        "casting{‘no’, ‘equiv’, ‘safe’, ‘same_kind’, ‘unsafe’}, optional\n",
        "\n",
        "Controls what kind of data casting may occur. Defaults to ‘same_kind’.\n"
      ],
      "metadata": {
        "id": "tYZF7xnLbmYE"
      }
    },
    {
      "cell_type": "code",
      "source": [
        "# Horizontal stacking\n",
        "\n",
        "\n",
        "c1 = np.arange(12).reshape(3,4)\n",
        "c2 = np.arange(12,24).reshape(3,4)\n",
        "print(c1)\n",
        "print()\n",
        "print(c2)\n",
        "\n",
        "\n",
        "np.hstack((c1,c2))"
      ],
      "metadata": {
        "colab": {
          "base_uri": "https://localhost:8080/"
        },
        "id": "FfD2c5q8bobU",
        "outputId": "99c90f70-6c8a-4585-c692-9c4c3a9ec7b4"
      },
      "execution_count": 125,
      "outputs": [
        {
          "output_type": "stream",
          "name": "stdout",
          "text": [
            "[[ 0  1  2  3]\n",
            " [ 4  5  6  7]\n",
            " [ 8  9 10 11]]\n",
            "\n",
            "[[12 13 14 15]\n",
            " [16 17 18 19]\n",
            " [20 21 22 23]]\n"
          ]
        },
        {
          "output_type": "execute_result",
          "data": {
            "text/plain": [
              "array([[ 0,  1,  2,  3, 12, 13, 14, 15],\n",
              "       [ 4,  5,  6,  7, 16, 17, 18, 19],\n",
              "       [ 8,  9, 10, 11, 20, 21, 22, 23]])"
            ]
          },
          "metadata": {},
          "execution_count": 125
        }
      ]
    },
    {
      "cell_type": "markdown",
      "source": [
        "### **np.vstack:**\n",
        "\n",
        "numpy.vstack(tup, *, dtype=None, casting='same_kind')\n",
        "\n",
        "Stack arrays in sequence vertically (row wise).\n",
        "\n",
        "This is equivalent to concatenation along the first axis after 1-D arrays of shape (N,) have been reshaped to (1,N). Rebuilds arrays divided by vsplit.\n",
        "\n",
        "This function makes most sense for arrays with up to 3 dimensions. For instance, for pixel-data with a height (first axis), width (second axis), and r/g/b channels (third axis). The functions concatenate, stack and block provide more general stacking and concatenation operations.\n",
        "\n",
        "np.row_stack is an alias for vstack. They are the same function.\n",
        "\n",
        "Parameters:\n",
        "\n",
        "tupsequence of ndarrays\n",
        "\n",
        "The arrays must have the same shape along all but the first axis. 1-D arrays must have the same length.\n",
        "\n",
        "dtypestr or dtype\n",
        "\n",
        "If provided, the destination array will have this dtype. Cannot be provided together with out.\n",
        "\n",
        "casting{‘no’, ‘equiv’, ‘safe’, ‘same_kind’, ‘unsafe’}, optional\n",
        "\n",
        "Controls what kind of data casting may occur. Defaults to ‘same_kind’."
      ],
      "metadata": {
        "id": "wPIZ-hKPdLzR"
      }
    },
    {
      "cell_type": "code",
      "source": [
        "# np.vstack"
      ],
      "metadata": {
        "id": "pu-8Pgt0brQQ"
      },
      "execution_count": 114,
      "outputs": []
    },
    {
      "cell_type": "code",
      "source": [
        "print(c1)\n",
        "print()\n",
        "print(c2)\n",
        "print()\n",
        "np.vstack((c1,c2))"
      ],
      "metadata": {
        "colab": {
          "base_uri": "https://localhost:8080/"
        },
        "id": "0pqBCGIWdgto",
        "outputId": "85a7c10b-e706-4f84-f638-e2bb329ea5dc"
      },
      "execution_count": 129,
      "outputs": [
        {
          "output_type": "stream",
          "name": "stdout",
          "text": [
            "[[ 0  1  2  3]\n",
            " [ 4  5  6  7]\n",
            " [ 8  9 10 11]]\n",
            "\n",
            "[[12 13 14 15]\n",
            " [16 17 18 19]\n",
            " [20 21 22 23]]\n",
            "\n"
          ]
        },
        {
          "output_type": "execute_result",
          "data": {
            "text/plain": [
              "array([[ 0,  1,  2,  3],\n",
              "       [ 4,  5,  6,  7],\n",
              "       [ 8,  9, 10, 11],\n",
              "       [12, 13, 14, 15],\n",
              "       [16, 17, 18, 19],\n",
              "       [20, 21, 22, 23]])"
            ]
          },
          "metadata": {},
          "execution_count": 129
        }
      ]
    },
    {
      "cell_type": "code",
      "source": [
        "print(c1)\n",
        "print()\n",
        "print(c2)\n",
        "print()\n",
        "np.vstack((c1,c2), dtype = 'float')"
      ],
      "metadata": {
        "colab": {
          "base_uri": "https://localhost:8080/"
        },
        "id": "aIVy0E5fd6JS",
        "outputId": "6e312611-a863-4f35-a476-da329c629754"
      },
      "execution_count": 130,
      "outputs": [
        {
          "output_type": "stream",
          "name": "stdout",
          "text": [
            "[[ 0  1  2  3]\n",
            " [ 4  5  6  7]\n",
            " [ 8  9 10 11]]\n",
            "\n",
            "[[12 13 14 15]\n",
            " [16 17 18 19]\n",
            " [20 21 22 23]]\n",
            "\n"
          ]
        },
        {
          "output_type": "execute_result",
          "data": {
            "text/plain": [
              "array([[ 0.,  1.,  2.,  3.],\n",
              "       [ 4.,  5.,  6.,  7.],\n",
              "       [ 8.,  9., 10., 11.],\n",
              "       [12., 13., 14., 15.],\n",
              "       [16., 17., 18., 19.],\n",
              "       [20., 21., 22., 23.]])"
            ]
          },
          "metadata": {},
          "execution_count": 130
        }
      ]
    },
    {
      "cell_type": "markdown",
      "source": [
        "### **numpy.dstack**\n",
        "\n",
        "numpy.dstack(tup)\n",
        "\n",
        "Stack arrays in sequence depth wise (along third axis).\n",
        "\n",
        "This is equivalent to concatenation along the third axis after 2-D arrays of shape (M,N) have been reshaped to (M,N,1) and 1-D arrays of shape (N,) have been reshaped to (1,N,1). Rebuilds arrays divided by dsplit.\n",
        "\n",
        "This function makes most sense for arrays with up to 3 dimensions. For instance, for pixel-data with a height (first axis), width (second axis), and r/g/b channels (third axis). The functions concatenate, stack and block provide more general stacking and concatenation operations.\n",
        "\n",
        "Parameters:\n",
        "\n",
        "1. tupsequence of arrays\n",
        "\n",
        "The arrays must have the same shape along all but the third axis. 1-D or 2-D arrays must have the same shape."
      ],
      "metadata": {
        "id": "kQPVj-Ddgwf6"
      }
    },
    {
      "cell_type": "code",
      "source": [
        "a = np.array((1,2,3))\n",
        "b = np.array((2,3,4))\n",
        "np.dstack((a,b))"
      ],
      "metadata": {
        "colab": {
          "base_uri": "https://localhost:8080/"
        },
        "id": "a5DO2vZIg_Ex",
        "outputId": "e4ef8cfc-d05e-40e5-8267-1f4603e02e23"
      },
      "execution_count": 146,
      "outputs": [
        {
          "output_type": "execute_result",
          "data": {
            "text/plain": [
              "array([[[1, 2],\n",
              "        [2, 3],\n",
              "        [3, 4]]])"
            ]
          },
          "metadata": {},
          "execution_count": 146
        }
      ]
    },
    {
      "cell_type": "code",
      "source": [
        "a = np.array([[1],[2],[3]])\n",
        "b = np.array([[2],[3],[4]])\n",
        "np.dstack((a,b))"
      ],
      "metadata": {
        "colab": {
          "base_uri": "https://localhost:8080/"
        },
        "id": "-WW-to4PhCuP",
        "outputId": "2bd503e5-5dcd-475b-f0e1-ec7dcee3a495"
      },
      "execution_count": 147,
      "outputs": [
        {
          "output_type": "execute_result",
          "data": {
            "text/plain": [
              "array([[[1, 2]],\n",
              "\n",
              "       [[2, 3]],\n",
              "\n",
              "       [[3, 4]]])"
            ]
          },
          "metadata": {},
          "execution_count": 147
        }
      ]
    },
    {
      "cell_type": "markdown",
      "source": [
        "### **numpy.concatenate**\n",
        "numpy.concatenate((a1, a2, ...), axis=0, out=None, dtype=None, casting=\"same_kind\")\n",
        "\n",
        "**Join a sequence of arrays along an existing axis.**\n",
        "\n",
        "Parameters:\n",
        "\n",
        "1. a1, a2, …sequence of array_like\n",
        "\n",
        "The arrays must have the same shape, except in the dimension corresponding to axis (the first, by default).\n",
        "\n",
        "2. axisint, optional\n",
        "\n",
        "The axis along which the arrays will be joined. If axis is None, arrays are flattened before use. Default is 0.\n",
        "\n",
        "3. outndarray, optional\n",
        "\n",
        "If provided, the destination to place the result. The shape must be correct, matching that of what concatenate would have returned if no out argument were specified.\n",
        "\n",
        "4. dtypestr or dtype\n",
        "If provided, the destination array will have this dtype. Cannot be provided together with out.\n",
        "\n",
        "5. casting{‘no’, ‘equiv’, ‘safe’, ‘same_kind’, ‘unsafe’}, optional\n",
        "\n",
        "Controls what kind of data casting may occur. Defaults to ‘same_kind’."
      ],
      "metadata": {
        "id": "FW4n-rZDeK8Z"
      }
    },
    {
      "cell_type": "code",
      "source": [
        "print(c1)\n",
        "print()\n",
        "print(c2)\n",
        "print()\n",
        "np.concatenate((c1,c2)) # By default axis = 0"
      ],
      "metadata": {
        "colab": {
          "base_uri": "https://localhost:8080/"
        },
        "id": "oMrg7ozYeKFl",
        "outputId": "91e44f9f-cb16-4d1d-c63e-f727ce097a45"
      },
      "execution_count": 132,
      "outputs": [
        {
          "output_type": "stream",
          "name": "stdout",
          "text": [
            "[[ 0  1  2  3]\n",
            " [ 4  5  6  7]\n",
            " [ 8  9 10 11]]\n",
            "\n",
            "[[12 13 14 15]\n",
            " [16 17 18 19]\n",
            " [20 21 22 23]]\n",
            "\n"
          ]
        },
        {
          "output_type": "execute_result",
          "data": {
            "text/plain": [
              "array([[ 0,  1,  2,  3],\n",
              "       [ 4,  5,  6,  7],\n",
              "       [ 8,  9, 10, 11],\n",
              "       [12, 13, 14, 15],\n",
              "       [16, 17, 18, 19],\n",
              "       [20, 21, 22, 23]])"
            ]
          },
          "metadata": {},
          "execution_count": 132
        }
      ]
    },
    {
      "cell_type": "code",
      "source": [
        "np.concatenate((c1,c2), axis = 1, out = None)"
      ],
      "metadata": {
        "colab": {
          "base_uri": "https://localhost:8080/"
        },
        "id": "zvUB0wTwe0eG",
        "outputId": "d019048e-855c-4972-d499-e6288eeb5437"
      },
      "execution_count": 136,
      "outputs": [
        {
          "output_type": "execute_result",
          "data": {
            "text/plain": [
              "array([[ 0,  1,  2,  3, 12, 13, 14, 15],\n",
              "       [ 4,  5,  6,  7, 16, 17, 18, 19],\n",
              "       [ 8,  9, 10, 11, 20, 21, 22, 23]])"
            ]
          },
          "metadata": {},
          "execution_count": 136
        }
      ]
    },
    {
      "cell_type": "markdown",
      "source": [
        "### **numpy.split**\n",
        "\n",
        "numpy.split(ary, indices_or_sections, axis=0)\n",
        "\n",
        "**Split an array into multiple sub-arrays as views into ary.**\n",
        "\n",
        "Parameters:\n",
        "\n",
        "1. aryndarray:\n",
        "\n",
        "Array to be divided into sub-arrays.\n",
        "\n",
        "2. indices_or_sectionsint or 1-D array\n",
        "\n",
        "If indices_or_sections is an integer, N, the array will be divided into N equal arrays along axis. If such a split is not possible, an error is raised.\n",
        "\n",
        "If indices_or_sections is a 1-D array of sorted integers, the entries indicate where along axis the array is split. For example, [2, 3] would, for axis=0, result in\n",
        "\n",
        "ary[:2]\n",
        "\n",
        "ary[2:3]\n",
        "\n",
        "ary[3:]\n",
        "\n",
        "If an index exceeds the dimension of the array along axis, an empty sub-array is returned correspondingly.\n",
        "\n",
        "3. axisint, optional\n",
        "\n",
        "The axis along which to split, default is 0."
      ],
      "metadata": {
        "id": "VvtzvJPMhb0F"
      }
    },
    {
      "cell_type": "code",
      "source": [
        "x = np.arange(9)\n",
        "print(x)"
      ],
      "metadata": {
        "colab": {
          "base_uri": "https://localhost:8080/"
        },
        "id": "_2iuJprVhNeq",
        "outputId": "0d7c3b47-39ea-45a4-8453-7dc2099fa63f"
      },
      "execution_count": 152,
      "outputs": [
        {
          "output_type": "stream",
          "name": "stdout",
          "text": [
            "[0 1 2 3 4 5 6 7 8]\n"
          ]
        }
      ]
    },
    {
      "cell_type": "code",
      "source": [
        "np.split(x,3)"
      ],
      "metadata": {
        "colab": {
          "base_uri": "https://localhost:8080/"
        },
        "id": "CCR4F2UiiE_m",
        "outputId": "4615d641-bf78-470e-8ee7-157790d15a56"
      },
      "execution_count": 153,
      "outputs": [
        {
          "output_type": "execute_result",
          "data": {
            "text/plain": [
              "[array([0, 1, 2]), array([3, 4, 5]), array([6, 7, 8])]"
            ]
          },
          "metadata": {},
          "execution_count": 153
        }
      ]
    },
    {
      "cell_type": "code",
      "source": [
        "x1 = np.arange(12.0)\n",
        "print(x1)"
      ],
      "metadata": {
        "colab": {
          "base_uri": "https://localhost:8080/"
        },
        "id": "Z349KwjUiI_p",
        "outputId": "8ed82005-852c-45a0-bb67-83af281d7821"
      },
      "execution_count": 161,
      "outputs": [
        {
          "output_type": "stream",
          "name": "stdout",
          "text": [
            "[ 0.  1.  2.  3.  4.  5.  6.  7.  8.  9. 10. 11.]\n"
          ]
        }
      ]
    },
    {
      "cell_type": "code",
      "source": [
        "np.split(x1, 2)"
      ],
      "metadata": {
        "colab": {
          "base_uri": "https://localhost:8080/"
        },
        "id": "W3yu7D_ginlW",
        "outputId": "94d86a9a-2e4c-4ec6-9311-445431bdf080"
      },
      "execution_count": 162,
      "outputs": [
        {
          "output_type": "execute_result",
          "data": {
            "text/plain": [
              "[array([0., 1., 2., 3., 4., 5.]), array([ 6.,  7.,  8.,  9., 10., 11.])]"
            ]
          },
          "metadata": {},
          "execution_count": 162
        }
      ]
    },
    {
      "cell_type": "code",
      "source": [
        "np.split(x1, [3,5,6,10])"
      ],
      "metadata": {
        "colab": {
          "base_uri": "https://localhost:8080/"
        },
        "id": "79LblbHliQZR",
        "outputId": "ef599709-e65b-4711-9149-195c2c2608fc"
      },
      "execution_count": 163,
      "outputs": [
        {
          "output_type": "execute_result",
          "data": {
            "text/plain": [
              "[array([0., 1., 2.]),\n",
              " array([3., 4.]),\n",
              " array([5.]),\n",
              " array([6., 7., 8., 9.]),\n",
              " array([10., 11.])]"
            ]
          },
          "metadata": {},
          "execution_count": 163
        }
      ]
    },
    {
      "cell_type": "markdown",
      "source": [
        "### **numpy.hsplit**\n",
        "numpy.hsplit(ary, indices_or_sections)\n",
        "\n",
        "**Split an array into multiple sub-arrays horizontally (column-wise).**\n",
        "\n",
        "Please refer to the split documentation. hsplit is equivalent to split with axis=1, the array is always split along the second axis except for 1-D arrays, where it is split at axis=0.\n",
        "\n"
      ],
      "metadata": {
        "id": "vqDIBcxZiypV"
      }
    },
    {
      "cell_type": "code",
      "source": [
        "h = np.array([1,2,3,4,5,6,7,8])\n",
        "print(h)\n",
        "print()\n",
        "np.hsplit(h, 4)"
      ],
      "metadata": {
        "colab": {
          "base_uri": "https://localhost:8080/"
        },
        "id": "xI2PqBLXkElz",
        "outputId": "748af099-5210-45aa-b6e1-aba6370da3e1"
      },
      "execution_count": 177,
      "outputs": [
        {
          "output_type": "stream",
          "name": "stdout",
          "text": [
            "[1 2 3 4 5 6 7 8]\n",
            "\n"
          ]
        },
        {
          "output_type": "execute_result",
          "data": {
            "text/plain": [
              "[array([1, 2]), array([3, 4]), array([5, 6]), array([7, 8])]"
            ]
          },
          "metadata": {},
          "execution_count": 177
        }
      ]
    },
    {
      "cell_type": "code",
      "source": [
        "q = np.arange(16).reshape(4,4)\n",
        "print(q)\n",
        "print()\n",
        "np.hsplit(q, 4)"
      ],
      "metadata": {
        "colab": {
          "base_uri": "https://localhost:8080/"
        },
        "id": "o_M7Z_CniyXD",
        "outputId": "b4c1379a-35c2-4cf6-96ed-2e2b17982627"
      },
      "execution_count": 170,
      "outputs": [
        {
          "output_type": "stream",
          "name": "stdout",
          "text": [
            "[[ 0  1  2  3]\n",
            " [ 4  5  6  7]\n",
            " [ 8  9 10 11]\n",
            " [12 13 14 15]]\n",
            "\n"
          ]
        },
        {
          "output_type": "execute_result",
          "data": {
            "text/plain": [
              "[array([[ 0],\n",
              "        [ 4],\n",
              "        [ 8],\n",
              "        [12]]),\n",
              " array([[ 1],\n",
              "        [ 5],\n",
              "        [ 9],\n",
              "        [13]]),\n",
              " array([[ 2],\n",
              "        [ 6],\n",
              "        [10],\n",
              "        [14]]),\n",
              " array([[ 3],\n",
              "        [ 7],\n",
              "        [11],\n",
              "        [15]])]"
            ]
          },
          "metadata": {},
          "execution_count": 170
        }
      ]
    },
    {
      "cell_type": "code",
      "source": [
        "y = np.arange(8.0).reshape(2, 2, 2)\n",
        "print(y)\n",
        "print()\n",
        "np.hsplit(y, 2)"
      ],
      "metadata": {
        "colab": {
          "base_uri": "https://localhost:8080/"
        },
        "id": "8ugnLzRKjgcN",
        "outputId": "00b3d907-bbaa-4347-902e-625d5a9bcf7a"
      },
      "execution_count": 176,
      "outputs": [
        {
          "output_type": "stream",
          "name": "stdout",
          "text": [
            "[[[0. 1.]\n",
            "  [2. 3.]]\n",
            "\n",
            " [[4. 5.]\n",
            "  [6. 7.]]]\n",
            "\n"
          ]
        },
        {
          "output_type": "execute_result",
          "data": {
            "text/plain": [
              "[array([[[0., 1.]],\n",
              " \n",
              "        [[4., 5.]]]),\n",
              " array([[[2., 3.]],\n",
              " \n",
              "        [[6., 7.]]])]"
            ]
          },
          "metadata": {},
          "execution_count": 176
        }
      ]
    },
    {
      "cell_type": "markdown",
      "source": [
        "### **numpy.vsplit**\n",
        "numpy.vsplit(ary, indices_or_sections)\n",
        "\n",
        "**Split an array into multiple sub-arrays vertically (row-wise).**\n",
        "\n",
        "**vsplit only works on arrays of 2 or more dimensions**"
      ],
      "metadata": {
        "id": "bZzRZgyFjckw"
      }
    },
    {
      "cell_type": "code",
      "source": [
        "v = np.arange(16).reshape(4,4)\n",
        "print(v)\n",
        "print()\n",
        "np.vsplit(v, 4)"
      ],
      "metadata": {
        "colab": {
          "base_uri": "https://localhost:8080/"
        },
        "id": "k6KKgF2KjbKz",
        "outputId": "e84fc26e-a5c6-4e72-b660-3e149ed8b8e3"
      },
      "execution_count": 182,
      "outputs": [
        {
          "output_type": "stream",
          "name": "stdout",
          "text": [
            "[[ 0  1  2  3]\n",
            " [ 4  5  6  7]\n",
            " [ 8  9 10 11]\n",
            " [12 13 14 15]]\n",
            "\n"
          ]
        },
        {
          "output_type": "execute_result",
          "data": {
            "text/plain": [
              "[array([[0, 1, 2, 3]]),\n",
              " array([[4, 5, 6, 7]]),\n",
              " array([[ 8,  9, 10, 11]]),\n",
              " array([[12, 13, 14, 15]])]"
            ]
          },
          "metadata": {},
          "execution_count": 182
        }
      ]
    },
    {
      "cell_type": "code",
      "source": [
        "v1 = np.arange(8).reshape(2,2,2)\n",
        "print(v1)\n",
        "print()\n",
        "np.vsplit(v1, 2)"
      ],
      "metadata": {
        "colab": {
          "base_uri": "https://localhost:8080/"
        },
        "id": "l9xdhNO6lIYz",
        "outputId": "a6ac9a71-55a4-4da9-9fae-2eac885b0ce8"
      },
      "execution_count": 185,
      "outputs": [
        {
          "output_type": "stream",
          "name": "stdout",
          "text": [
            "[[[0 1]\n",
            "  [2 3]]\n",
            "\n",
            " [[4 5]\n",
            "  [6 7]]]\n",
            "\n"
          ]
        },
        {
          "output_type": "execute_result",
          "data": {
            "text/plain": [
              "[array([[[0, 1],\n",
              "         [2, 3]]]),\n",
              " array([[[4, 5],\n",
              "         [6, 7]]])]"
            ]
          },
          "metadata": {},
          "execution_count": 185
        }
      ]
    },
    {
      "cell_type": "markdown",
      "source": [
        "### **numpy.dsplit**\n",
        "\n",
        "numpy.dsplit(ary, indices_or_sections)\n",
        "\n",
        "**Split array into multiple sub-arrays along the 3rd axis (depth).**\n",
        "\n"
      ],
      "metadata": {
        "id": "z7sjBH6ultQZ"
      }
    },
    {
      "cell_type": "code",
      "source": [
        "d = np.arange(16.0).reshape(2, 2, 4)\n",
        "d"
      ],
      "metadata": {
        "colab": {
          "base_uri": "https://localhost:8080/"
        },
        "id": "qfhvpO7qlhFJ",
        "outputId": "73b384db-a6d9-441b-8bd3-be9e0d037675"
      },
      "execution_count": 186,
      "outputs": [
        {
          "output_type": "execute_result",
          "data": {
            "text/plain": [
              "array([[[ 0.,  1.,  2.,  3.],\n",
              "        [ 4.,  5.,  6.,  7.]],\n",
              "\n",
              "       [[ 8.,  9., 10., 11.],\n",
              "        [12., 13., 14., 15.]]])"
            ]
          },
          "metadata": {},
          "execution_count": 186
        }
      ]
    },
    {
      "cell_type": "code",
      "source": [
        "np.dsplit(d, 2)"
      ],
      "metadata": {
        "colab": {
          "base_uri": "https://localhost:8080/"
        },
        "id": "7c_WTchLl9SD",
        "outputId": "b3d341c4-f24b-47b1-8060-5a0f3d64d42e"
      },
      "execution_count": 189,
      "outputs": [
        {
          "output_type": "execute_result",
          "data": {
            "text/plain": [
              "[array([[[ 0.,  1.],\n",
              "         [ 4.,  5.]],\n",
              " \n",
              "        [[ 8.,  9.],\n",
              "         [12., 13.]]]),\n",
              " array([[[ 2.,  3.],\n",
              "         [ 6.,  7.]],\n",
              " \n",
              "        [[10., 11.],\n",
              "         [14., 15.]]])]"
            ]
          },
          "metadata": {},
          "execution_count": 189
        }
      ]
    },
    {
      "cell_type": "markdown",
      "source": [
        "# **Copying Array and viewing array**\n",
        "\n",
        "### **1. array.copy() : Creates a copy of an array. Masking and array op creates copy.**\n",
        "\n",
        "  A. np.copy() creates a deep copy of an array.\n",
        "\n",
        "  B. It creates a new array in memory with its own data, which is completely independent of the original array.\n",
        "\n",
        "  C. Modifications to the copied array do not affect the original array, and vice versa.\n",
        "  \n",
        "  D. This function is useful when you want to manipulate an array without altering the original data.\n",
        "\n",
        "### **2. array.view() : Creates View of an array. Slicing creates view**\n",
        "\n",
        "  A. np.view() creates a view of an array, which is a shallow copy.\n",
        "\n",
        "  B. It creates a new array object that looks at the same data as the original array.\n",
        "\n",
        "  C. Modifications to the view affect the original array, and vice versa, as they share the same underlying data.\n",
        "\n",
        "  D. This function is useful when you want to create alternative \"views\" of the same data without making a separate copy."
      ],
      "metadata": {
        "id": "xDbDDkKF_R4G"
      }
    },
    {
      "cell_type": "code",
      "source": [
        "cv = np.array([3,1,4,3,4,6,42,2,3,5,])\n",
        "cv"
      ],
      "metadata": {
        "colab": {
          "base_uri": "https://localhost:8080/"
        },
        "id": "nAwknPWm_vXq",
        "outputId": "473a45ca-a8f7-482c-809b-0db1c41770c5"
      },
      "execution_count": 321,
      "outputs": [
        {
          "output_type": "execute_result",
          "data": {
            "text/plain": [
              "array([ 3,  1,  4,  3,  4,  6, 42,  2,  3,  5])"
            ]
          },
          "metadata": {},
          "execution_count": 321
        }
      ]
    },
    {
      "cell_type": "code",
      "source": [
        "# 1. array.copy() : Creates a copy of an array. Masking and array op creates copy.\n",
        "\n",
        "import numpy as np\n",
        "\n",
        "arr = np.array([1, 2, 3, 4])\n",
        "arr_copy = np.copy(arr)\n",
        "\n",
        "arr_copy[0] = 100  # Modify the copied array\n",
        "print(arr_copy)    # Output: [100  2  3  4]\n",
        "print(arr)         # Output: [1 2 3 4] (Original array remains unchanged)\n"
      ],
      "metadata": {
        "colab": {
          "base_uri": "https://localhost:8080/"
        },
        "id": "4Rfd0dz5_RbQ",
        "outputId": "4afbec64-0d67-470c-82a6-0fcd4c89a761"
      },
      "execution_count": 330,
      "outputs": [
        {
          "output_type": "stream",
          "name": "stdout",
          "text": [
            "[100   2   3   4]\n",
            "[1 2 3 4]\n"
          ]
        }
      ]
    },
    {
      "cell_type": "code",
      "source": [
        "# 2. array.view() : Creates View of an array. Slicing creates view\n",
        "\n",
        "import numpy as np\n",
        "\n",
        "arr = np.array([1, 2, 3, 4])\n",
        "arr_view = arr.view()\n",
        "\n",
        "arr_view[0] = 100  # Modify the view\n",
        "print(arr_view)    # Output: [100   2   3   4]\n",
        "print(arr)         # Output: [100   2   3   4] (Original array is modified)\n"
      ],
      "metadata": {
        "colab": {
          "base_uri": "https://localhost:8080/"
        },
        "id": "Vfhg1lHt_6zB",
        "outputId": "6bc4e861-39a5-4d88-f641-f6d285f45f1d"
      },
      "execution_count": 329,
      "outputs": [
        {
          "output_type": "stream",
          "name": "stdout",
          "text": [
            "[100   2   3   4]\n",
            "[100   2   3   4]\n"
          ]
        }
      ]
    }
  ]
}